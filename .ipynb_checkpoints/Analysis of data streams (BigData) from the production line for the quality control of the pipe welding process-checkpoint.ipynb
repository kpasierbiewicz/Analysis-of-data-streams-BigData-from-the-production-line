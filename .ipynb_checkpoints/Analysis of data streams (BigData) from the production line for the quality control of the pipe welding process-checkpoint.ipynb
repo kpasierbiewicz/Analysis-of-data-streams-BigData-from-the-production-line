{
 "cells": [
  {
   "cell_type": "markdown",
   "id": "billion-taiwan",
   "metadata": {},
   "source": [
    "# Analysis of data streams (BigData) from the production line for the quality control of the pipe welding process"
   ]
  },
  {
   "cell_type": "markdown",
   "id": "exclusive-context",
   "metadata": {},
   "source": [
    "## Introduction\n",
    "Data is the basic information that allows you to learn about the operation of a given process. Nowadays, the data provided from various processing processes by all kinds of sensors gives knowledge to perform comprehensive analyzes. Pre-dict, among other things, system or tool failure, detection of anomalies affecting the quality of a given product. Data allow and facilitate the work during the planning of various innovations that improve the quality of the process. On the one hand, a large amount of data allows for greater possibilities of examining the parameters that most affect a given process. It introduces some kind of noise consisting, for example, of measurement errors caused by damage to the sensor collecting important data. The sheer amount of data can be difficult to process. We define a very large amount of data as Big data. Big data is processing and analysis of data that may lead to the acquisition of new knowledge."
   ]
  },
  {
   "cell_type": "markdown",
   "id": "floral-romance",
   "metadata": {},
   "source": [
    "## The problem raised in the research"
   ]
  },
  {
   "cell_type": "markdown",
   "id": "interpreted-mailing",
   "metadata": {},
   "source": [
    "The problem is related to the data analysis in the pipe welding process that affects the quality of the process. The key parameter influencing the quality of the weld is temperature. The schematic diagram in Figure 1 shows a general process flow."
   ]
  },
  {
   "cell_type": "markdown",
   "id": "sudden-happiness",
   "metadata": {},
   "source": [
    "<img src=\"img/fig 1.png\">"
   ]
  },
  {
   "cell_type": "markdown",
   "id": "anonymous-biodiversity",
   "metadata": {},
   "source": [
    "The process of welding pipes that includes the project is not automatic. The\n",
    "process of welding pipes takes place in a properly prepared welding machine\n",
    "where a ferrite core is placed in the center of the welded elements. The heating\n",
    "element is placed in such a way as to limit the area of heating the pipes to avoid\n",
    "structural changes in parts of the element. The welding is performed linearly\n",
    "and requires a temperature of 1300 degrees Celsius. The process is performed\n",
    "by operators who experimentally select the process parameters to maintain the\n",
    "appropriate temperature. The key element of the process is the temperature\n",
    "where it requirement maintain the level of 1,300 degrees Celsius. In order to\n",
    "test and retrieve data, a pyrometer measuring temperature in 60 / 1s samples\n",
    "was installed. The amount of data is so large that it was required to prepare\n",
    "an appropriate database. The data is stored in the Influxdb database. The\n",
    "measurements made are not free from noise and errors occurring during the\n",
    "process. The first problem is the resolution of the pyrometer and placing it in\n",
    "such a way that it retrieves data from the place of the weld.Simply storing data\n",
    "is not enough. They requirement be properly filtered to keep only the data.\n",
    "That has a significant impact on the process and at the same time reduces the\n",
    "possibility of taking into account data that does not affect the process. Machine\n",
    "learning can be used for such activities. The development of Big Data analytics\n",
    "is inextricably linked with machine learning. Machine learning is aimed at,\n",
    "inter alia, detecting unknown regularities in databases, creating analogies and\n",
    "modifying data. The article aims to outline the use of big data and machine\n",
    "learning in the process of improving the quality of pipe welding. Eliminate sew\n",
    "in the key parameter which is temperature."
   ]
  },
  {
   "cell_type": "markdown",
   "id": "unlikely-school",
   "metadata": {},
   "source": [
    "## Predicted result"
   ]
  },
  {
   "cell_type": "markdown",
   "id": "accredited-exposure",
   "metadata": {},
   "source": [
    "The result of the research is to develop a model for the analysis of data\n",
    "streams from the measured pipe welding production line. The result of the\n",
    "analysis should be quantitative measures of the degree of stability of the mea-\n",
    "surement quality control. The implementation of the indicated model will enable\n",
    "a quick assessment of the measurement error and the resulting bias. The sam-\n",
    "pling frequency required to maintain the quality control at the required level will\n",
    "also be assessed, as well as determining the acceptable levels of the characteris-\n",
    "tics of individual signals. Models for calculating the characteristics enabling the\n",
    "assessment of systematic error as well as measures and measurement selection\n",
    "procedures for each variable will be determined. The process of data stream\n",
    "processing itself has been used in many industries for many years. however, in\n",
    "the material processing processes there are areas. Where the possibility of using\n",
    "it would help improve the production of the product and at the same time help\n",
    "in determining the key parameters that have a significant impact on the process."
   ]
  },
  {
   "cell_type": "markdown",
   "id": "blind-burns",
   "metadata": {},
   "source": [
    "## Checking the existing solutions in the literature"
   ]
  },
  {
   "cell_type": "markdown",
   "id": "continental-edward",
   "metadata": {},
   "source": [
    "The process of welding pipes is a process known and very often used in industry, but in the literature there are very few examples of the use of machine learning in the mentioned process.\n",
    "Most of the solutions found are based on the welding process, the technical process of which is different from the welding process, however, it may be an inspiration for the use of welding quality testing solutions. On the example of 10 articles, I will present solutions that can be a potential inspiration for use in my research project."
   ]
  },
  {
   "cell_type": "markdown",
   "id": "seasonal-nashville",
   "metadata": {},
   "source": [
    "### 1. Real-time automatic detection of weld defects in steel pipe"
   ]
  },
  {
   "cell_type": "markdown",
   "id": "european-livestock",
   "metadata": {},
   "source": [
    "In order to detect weld defects in steel tube, a real-time imaging and detecting system is setup. In the extracted weld seam, based on spatial\n",
    "characteristics near defects—variance and contrast, defects such as slags, blowholes and incomplete penetration are automatically detected\n",
    "using the method of fuzzy pattern recognition, and the system will automatically alarm if the defect exceeds the national standard. Compared\n",
    "with other methods, it is simple and fast, and has fewer misinterpretations. It can detect weld defects in real-time."
   ]
  },
  {
   "cell_type": "markdown",
   "id": "confused-suspension",
   "metadata": {},
   "source": [
    "X-ray imaging is a widely used technique for inspection\n",
    "of industrial pieces and for the medical diagnosis of human\n",
    "diseases. Traditional radiographic testing with film is an\n",
    "expensive and time-consuming technique. Therefore, digital\n",
    "radioscopy that permits real-time inspection has been\n",
    "developed and applied. Now, experienced workers are\n",
    "required to evaluate the moving weld seam based on the\n",
    "video displayed on monitor. The manual interpretation\n",
    "process can be subjective, inconsistent, and easily cause\n",
    "fatigue. "
   ]
  },
  {
   "cell_type": "markdown",
   "id": "fatty-edgar",
   "metadata": {},
   "source": [
    "#### Component structure of the system"
   ]
  },
  {
   "cell_type": "markdown",
   "id": "positive-remedy",
   "metadata": {},
   "source": [
    "The system consists of conversion part, processing part\n",
    "and serial communication part as shown in Fig. 1. The\n",
    "conversion part consists of X-ray source, weld seam,\n",
    "transmission vehicle, intensifier and CCD camera. The\n",
    "function of this part is to make the conversion from X-ray to\n",
    "visible light. Firstly, X-ray is transferred into visual light\n",
    "through light intensifier. Then the CCD camera transfers the\n",
    "light signal into electric signal and sends it to the processing\n",
    "part. The processing part consists of monitor, image\n",
    "grabber, computer, and computer screen. In this part, the\n",
    "electric signal is sampled and transformed into digital signal by image grabber, and at the same time it is also displayed\n",
    "on the monitor. The digital image is sent into the computer\n",
    "and will be detected using the defect detection algorithm\n",
    "based on fuzzy recognition theory. The result will be\n",
    "displayed on computer screen in real-time and stored in\n",
    "computer for future check or test."
   ]
  },
  {
   "cell_type": "markdown",
   "id": "golden-relaxation",
   "metadata": {},
   "source": [
    "<img src=\"img/fig 2.png\">"
   ]
  },
  {
   "cell_type": "markdown",
   "id": "conventional-leone",
   "metadata": {},
   "source": [
    "####  Principle of automatic detection"
   ]
  },
  {
   "cell_type": "markdown",
   "id": "sufficient-aberdeen",
   "metadata": {},
   "source": [
    "The defects detection includes two main\n",
    "procedures: image preprocessing and realization of the\n",
    "algorithm. Usually, an automatic welding process yields a relatively\n",
    "uniform weld. Since only the items within a weld are of\n",
    "interest for the purpose of image processing, we extracted\n",
    "the weld area free of background. A typical X-ray image of\n",
    "weld is shown in Fig. 2(a). We have the prior information\n",
    "about brightness distribution in the points of object and\n",
    "background. There are three main areas in the weld image,\n",
    "the base metal area, the weld area, and lead plate area.\n",
    "The weld seam is oriented along the horizontal direction and appears in the image as a darker area."
   ]
  },
  {
   "cell_type": "markdown",
   "id": "stunning-transsexual",
   "metadata": {},
   "source": [
    "<img src=\"img/fig 3.png\">"
   ]
  },
  {
   "cell_type": "markdown",
   "id": "bottom-sacrifice",
   "metadata": {},
   "source": [
    "In detection of blowhole and slag inclusion, the sizes of\n",
    "contrast and detection area are selected as 10x3 and 6x4.\n",
    "The contrast areas are divided into two groups, the\n",
    "horizontal distances between the two groups and the detect\n",
    "area are 5–8 and 15–18 pixels; the vertical contrast area is\n",
    "also divided into two groups, the distance between the two\n",
    "groups and the detect area respectively are 3–6 and 8–11\n",
    "pixels."
   ]
  },
  {
   "cell_type": "markdown",
   "id": "chief-corpus",
   "metadata": {},
   "source": [
    "#### Conclusion"
   ]
  },
  {
   "cell_type": "markdown",
   "id": "grateful-expense",
   "metadata": {},
   "source": [
    "X-ray weld seam automatic detection system recommended in this article applies defect detection algorithm\n",
    "based on fuzzy rules to identify defects in welded seam. It\n",
    "can give a very high confidence about the defect, but rough\n",
    "information on type. The proposed method based on fuzzy\n",
    "rules avoids many drawbacks of traditional approaches.\n",
    "The major advantages of this method are as follows:"
   ]
  },
  {
   "cell_type": "markdown",
   "id": "christian-bahrain",
   "metadata": {},
   "source": [
    "1. It is fast. The detection speed of the system achieves\n",
    "3.5 m/s, equal to 3–4 frames/s. It can meet the require\u0002ment of real-time detection.\n",
    "2. It is easy. The fuzzy recognition algorithm is easy to\n",
    "understand and at a similar level to human vision.\n",
    "3. It is flexible and adaptive. It is more effective for defects\n",
    "with different spatial contrast and almost need not\n",
    "change parameter for different X-ray source systems.\n",
    "4. It is stable and precise. The system has high accuracy rate\n",
    "and low misreport rate."
   ]
  },
  {
   "cell_type": "markdown",
   "id": "freelance-dream",
   "metadata": {},
   "source": [
    "System has obtained a good performance, but we\n",
    "cannot say it is absolutely superior to others studies.\n",
    "Because different sets of radiographic images are used in\n",
    "different studies, this calls for the need to establish a\n",
    "benchmark image set in order to perform a sensible\n",
    "comparison.Not only  system is designed for detecting the weld\n",
    "seam of steel pipe, but also it is appropriate to other fields,\n",
    "such as other weld seam detection, internal defects detection\n",
    "of mental material and chemical engineering material,\n",
    "critical component detection of car, train and aerospace vehicle."
   ]
  },
  {
   "cell_type": "markdown",
   "id": "rapid-click",
   "metadata": {},
   "source": [
    "### 2. Automated detection of welding defects in pipelines from radiographic images DWDI"
   ]
  },
  {
   "cell_type": "markdown",
   "id": "special-approval",
   "metadata": {},
   "source": [
    "This paper presents a method for the automatic detection and classification of defects in radiographic images of\n",
    "welded joints obtained by exposure technique of double wall double image (DWDI). The proposed method\n",
    "locates the weld bead on the DWDI radiographic images, segments discontinuities (potential defects) in the\n",
    "detected weld bead and extracts features of these discontinuities. These features are used in a feed-forward\n",
    "multilayer perceptron (MLP) with backpropagation learning algorithm to classify descontinuities in “defect and\n",
    "no-defect”. The classifier reached an accuracy of 88.6% and a F-score of 87.5% for the test data. A comparison of\n",
    "the results with the earlier studies using SWSI and DWSI radiographic images indicates that the proposed\n",
    "method is promising. This work contributes towards the improvement of the automatic detection of welding\n",
    "defects in DWDI radiographic image which results can be used by weld inspectors as a support in the\n",
    "preparation of technical reports"
   ]
  },
  {
   "cell_type": "markdown",
   "id": "filled-fashion",
   "metadata": {},
   "source": [
    "#### Component structure of the system"
   ]
  },
  {
   "cell_type": "markdown",
   "id": "offensive-graduate",
   "metadata": {},
   "source": [
    "DWDI exposure technique is a typical arrangement adopted for\n",
    "taking radiographic images of the pipe with a diameter equal to or less than 90 mm thereby not allowing any internal access for the insertion\n",
    "of the radiation source. The source is positioned slightly far from the\n",
    "pipe, in such a way that the beam does not miss the nearest part of the\n",
    "weld. The source is kept at an inclination that avoids the overlapping of\n",
    "the top and bottom welds. Usually, two exposures are taken by rotating\n",
    "the pipe by 90 degrees. Thus, in DWDI we have radiographic images\n",
    "where both walls of a tubular section are superimposed, resulting in an\n",
    "elliptical image as shown in Fig. 1"
   ]
  },
  {
   "cell_type": "markdown",
   "id": "sharing-albert",
   "metadata": {},
   "source": [
    "<img src=\"img/fig 4.png\">"
   ]
  },
  {
   "cell_type": "markdown",
   "id": "regular-frontier",
   "metadata": {},
   "source": [
    "At least two images of each\n",
    "welded joint are necessary for a complete weld bead inspection."
   ]
  },
  {
   "cell_type": "markdown",
   "id": "valued-married",
   "metadata": {},
   "source": [
    "#### Detecting discontinuities and extraction of features"
   ]
  },
  {
   "cell_type": "markdown",
   "id": "undefined-briefing",
   "metadata": {},
   "source": [
    "Fig. 3 shows the main steps of the proposed algorithm for automatic\n",
    "detection and classification of defects in weld beads: location of the\n",
    "region of interest (ROI), detection of discontinuities (potential defects),\n",
    "extraction of features of the detected discontinuities and classification\n",
    "of the discontinuities."
   ]
  },
  {
   "cell_type": "markdown",
   "id": "raising-label",
   "metadata": {},
   "source": [
    "<img src=\"img/fig 5.png\">"
   ]
  },
  {
   "cell_type": "markdown",
   "id": "fleet-token",
   "metadata": {},
   "source": [
    "##### Neural network training"
   ]
  },
  {
   "cell_type": "markdown",
   "id": "dental-accordance",
   "metadata": {},
   "source": [
    "After extracting the features from the descontinuities, the database\n",
    "is employed to train a neural network to classify the descontinuities in\n",
    "five classes (porosity, slag inclusion, lack of fusion, cracks and no\n",
    "defect). The network used is a feed-forward multilayer perceptron\n",
    "(MLP) with three layers. The network has eight inputs, (one for each\n",
    "feature), ten neurons in the hidden layer and five neurons in the output\n",
    "layer (one for each class). The activation functions at the hidden layer\n",
    "and output layer in the network are a hyperbolic tangent function, since\n",
    "it was the one that presented the best results for all the tests. The\n",
    "number of neurons in the hidden layer was chosen heuristically.\n",
    "MLP is a feedforward artificial neural network model that maps sets\n",
    "of input data onto a set of appropriate output. Usually, MLP utilizes a\n",
    "supervised learning technique called backpropagation for training the\n",
    "network. MLP network with backpropagation learning algorithm is\n",
    "chosen due to its fast processing time and good performance for\n",
    "pattern recognition problems."
   ]
  },
  {
   "cell_type": "markdown",
   "id": "integral-beast",
   "metadata": {},
   "source": [
    "##### Classifier performance measurement"
   ]
  },
  {
   "cell_type": "markdown",
   "id": "surprising-hearts",
   "metadata": {},
   "source": [
    "Once a classifier is established, its performance can be evaluated by\n",
    "various methods. The efficiency of a classification can be evaluated by\n",
    "computing the number of correctly recognized class examples (true\n",
    "positives), the number of correctly recognized examples that do not\n",
    "belong to the class (true negatives), and examples that either were\n",
    "incorrectly assigned to the class (false positives) or that were not\n",
    "recognized as class examples (false negatives). "
   ]
  },
  {
   "cell_type": "markdown",
   "id": "seasonal-cruise",
   "metadata": {},
   "source": [
    "#### Conclusion"
   ]
  },
  {
   "cell_type": "markdown",
   "id": "separate-startup",
   "metadata": {},
   "source": [
    "In this research, an algorithm for automated detection of flaws in\n",
    "welded joints of petroleum pipelines has been developed using image\n",
    "processing techniques and a neural network. The basic idea is to try to\n",
    "mimic the way a human inspector would inspect radioscopic images:\n",
    "first the weld bead is located, followed by detecting descontinuities\n",
    "(potential defects) in the weld bead region and then such disconti\u0002nuities are classified as defect or no-defect. A set of geometrical\n",
    "features is extracted from the detected descontinuities to be used as\n",
    "input to an MLP classifier. The experiments were performed on DWDI\n",
    "real field radiographic images which, usually, have a lower quality than\n",
    "the images used in other studies."
   ]
  },
  {
   "cell_type": "markdown",
   "id": "available-andorra",
   "metadata": {},
   "source": [
    "### 3. An automatic welding defect location algorithm based on deep learning"
   ]
  },
  {
   "cell_type": "markdown",
   "id": "happy-multimedia",
   "metadata": {},
   "source": [
    "Welding production has a pivotal role in the modern manufacturing industry. However, welding defects are \n",
    "frequently generated during the complex welding production process which will bring a certain effect to the \n",
    "welding quality. Therefore, the issue of welding defect detection has received considerable critical attention. \n",
    "However, traditional methods, based on handcrafted features or shallow-learning techniques could only detect \n",
    "welding defects under specific detection conditions or priori knowledge. In this paper, to serve the evaluation of \n",
    "the harmfulness of welding defects to different objects, based on the strong feature expression ability of deep \n",
    "learning, an automatic welding defect location method is proposed based on the improved U-net network from \n",
    "digital X-ray images which includes data augmentation and welding defect location. To acquire better location \n",
    "performance, the data augmentation is realized to enlarge the data set of welding defects to serve the network \n",
    "training. On the basis, a defect location method based on the improved U-net network is proposed to realize \n",
    "automatic and high-precision welding defect location. Experiments show that the proposed method could acquire \n",
    "the detection precision up to 88.4% on the public data set (GDXray Set) which shows a remarkable location \n",
    "performance compared with other related detection methods. "
   ]
  },
  {
   "cell_type": "markdown",
   "id": "talented-trouble",
   "metadata": {},
   "source": [
    "#### Component structure of the system"
   ]
  },
  {
   "cell_type": "markdown",
   "id": "fuzzy-reputation",
   "metadata": {},
   "source": [
    "To evaluate of the harmfulness of welding defects to different objects, such as structural strength and comprehensive quality, based on \n",
    "the good detection performance of X-ray detection, a welding \n",
    "defect inspection scheme is set up in this paper to acquire the internal \n",
    "defect structure of welding work pieces, as shown in Fig. 1. \n",
    "For the X-ray welding images, the raw images have the unique \n",
    "characteristics which will bring a certain challenge to the high-precision \n",
    "location of the welding defects."
   ]
  },
  {
   "cell_type": "markdown",
   "id": "blessed-alexandria",
   "metadata": {},
   "source": [
    "<ul><ol>(1) The X-ray welding images always present the weak-contrast and \n",
    "weak-texture features. It causes that the details about the welding \n",
    "    defects are not prominent in the raw images.</ol>\n",
    "<ol>(2) The welding defects belong to the small pixel clustering or small \n",
    "edge. For the raw images of 4k length, how to realize the accurate \n",
    "defect detection on multi-scale objects still faces a certain \n",
    "    challenge.</ol></ul>"
   ]
  },
  {
   "cell_type": "markdown",
   "id": "plain-worker",
   "metadata": {},
   "source": [
    "<img src=\"img/fig 6.png\">"
   ]
  },
  {
   "cell_type": "markdown",
   "id": "personalized-advocacy",
   "metadata": {},
   "source": [
    "To address the above issues, to ensure the detection performance of \n",
    "the proposed method, some key links are needed to realize the automatic \n",
    "location of welding defects:"
   ]
  },
  {
   "cell_type": "markdown",
   "id": "planned-designation",
   "metadata": {},
   "source": [
    "<ul><ol>(1) Image collection: To better realize the defect detection of \n",
    "welding work pieces, a good labeled data set is the premise for the \n",
    "    proposed location model of welding defects.</ol>\n",
    "<ol>(2) Data Augmentation: The samples of X-ray welding images \n",
    "belong to the small-scale data set, the data augmentation needs to \n",
    "be done to enlarge the data set and serve the model training of \n",
    "    deep detection model of welding defects.</ol> \n",
    "<ol>(3) Defect Location: Faced with the complex X-ray welding images \n",
    "with weak texture and weak contrast, an effective detection \n",
    "model is the core part for the automatic and high-precision \n",
    "    location of welding defects</ol></ul>"
   ]
  },
  {
   "cell_type": "markdown",
   "id": "binary-wilderness",
   "metadata": {},
   "source": [
    "The Welds subset includes not only 10 X-ray images with 4k length \n",
    "and variable width (series W0001), but also the annotations of bounding \n",
    "boxes and the binary images of the ground truth of welding defects \n",
    "(series W0002). Meanwhile, to better serve the network training, series \n",
    "W0003 of Welds has more than 60 X-ray images and part of them is \n",
    "labeled in the form of the binary images with the help of experts engaged \n",
    "in robot welding. Some sample images of X-ray welding images from \n",
    "Welds set are shown in Fig. 2."
   ]
  },
  {
   "cell_type": "markdown",
   "id": "republican-lexington",
   "metadata": {},
   "source": [
    "<img src=\"img/fig 7.png\">"
   ]
  },
  {
   "cell_type": "markdown",
   "id": "electronic-writer",
   "metadata": {},
   "source": [
    "#### Welding defect location"
   ]
  },
  {
   "cell_type": "markdown",
   "id": "unavailable-boutique",
   "metadata": {},
   "source": [
    "##### Network structure"
   ]
  },
  {
   "cell_type": "markdown",
   "id": "fatty-beatles",
   "metadata": {},
   "source": [
    "U-net network is a typical 2D full convolutional neural network \n",
    "which shows a good segmentation performance on the medical images, \n",
    "such as fMRI images and CT images. Inspired by the U-net network, \n",
    "to enhance the segmentation performance on the X-ray welding images, \n",
    "an improved U-net network is proposed for high-precision defect segmentation. The improved U-net network receives the gray X\u0002ray welding images as the network input and generate the binary seg\u0002mentation images with the same size as the network output. It is a \n",
    "typical U-type network structure which is composed by the Encoder and \n",
    "Decoder structures. "
   ]
  },
  {
   "cell_type": "markdown",
   "id": "comparative-italian",
   "metadata": {},
   "source": [
    "#####  Encoder Network"
   ]
  },
  {
   "cell_type": "markdown",
   "id": "sought-child",
   "metadata": {},
   "source": [
    "The encoder network is used to reduce image feature size and its \n",
    "architecture is a repetitive structure with convolution layers and one \n",
    "max-pooling layer in each repetition. The encoder network begins with \n",
    "the convolutional (Conv) layer to realize the image down-sampling. It is \n",
    "followed by the batch normalization (BN), rectified linear unit (Relu) \n",
    "and max pooling layer. The max-pooling layer is inserted between two \n",
    "encoding layers. The BN is used to stabilize training, speed up the \n",
    "network convergence, and regularize the model. The max-pooling layer is a 2x2 max pooling \n",
    "operation with stride 2 for feature down-sampling which could preserve \n",
    "the meaningful features with high activation, and eliminate some unnecessary features."
   ]
  },
  {
   "cell_type": "markdown",
   "id": "reserved-boulder",
   "metadata": {},
   "source": [
    "##### Decoder Network"
   ]
  },
  {
   "cell_type": "markdown",
   "id": "finnish-steel",
   "metadata": {},
   "source": [
    "Conversely, the decoder network is used to restore the spatial in\u0002formation and feature size. It is basically symmetrical to the encoder \n",
    "network and each decoding layer has a corresponding encoding layer in \n",
    "the decoder network. The up-sampling operation is used to reduce \n",
    "feature channels and enlarge feature maps from the encoder layer. Like \n",
    "the max pooling layer, the up-sampling layer is also inserted between \n",
    "two decoding layers. "
   ]
  },
  {
   "cell_type": "markdown",
   "id": "interpreted-mechanism",
   "metadata": {},
   "source": [
    "#####  Skip Connections"
   ]
  },
  {
   "cell_type": "markdown",
   "id": "settled-boating",
   "metadata": {},
   "source": [
    "For the encoder network, lower network layer could acquire the low\u0002level feature maps with higher spatial resolution which are suitable for \n",
    "the small-scale defects. And more abstract and high-level feature maps \n",
    "could be acquired with the increase of the network layer which are very \n",
    "suitable for the large-scale defects. To improve the detection precision, on the basis of U-net network, an \n",
    "improved U-net network is proposed for defect segmentation and more \n",
    "skip connections are added into the segmentation network to circum vent the bottleneck of the information. "
   ]
  },
  {
   "cell_type": "markdown",
   "id": "brilliant-promotion",
   "metadata": {},
   "source": [
    "#### Conclusion"
   ]
  },
  {
   "cell_type": "markdown",
   "id": "sapphire-devil",
   "metadata": {},
   "source": [
    "To serve the evaluation of the harmfulness of welding defects to \n",
    "different objects, an automatic location method of welding defects is \n",
    "proposed based on the improved U-net network from the digital X-ray. images. Based on the public data set-GDXray set, the proposed method \n",
    "could get a better detection performance on X-ray welding images, and it \n",
    "could realize the automatic and high-precision defect location without \n",
    "any prior knowledge and predetermined parameters. The main results of \n",
    "this paper are summarized as follows:"
   ]
  },
  {
   "cell_type": "markdown",
   "id": "capital-spiritual",
   "metadata": {},
   "source": [
    "1. Faced with the small-scale samples of X-ray welding images, an \n",
    "effective data augmentation method is proposed combined with the \n",
    "image preprocessing and random crop to enlarge the data set and \n",
    "serve the model training of the deep semantic segmentation \n",
    "networks. \n",
    "2. To realize automatic and high-precision location of welding defects, \n",
    "an improved U-net segmentation network is proposed to provide an \n",
    "end-to-end welding defect detection scheme from X-ray welding \n",
    "images. \n",
    "3. Without any prior knowledge and predetermined parameters, the \n",
    "proposed method shows a better detection performance on the public \n",
    "data set compared with other related advanced detection algorithms. "
   ]
  },
  {
   "cell_type": "markdown",
   "id": "coordinate-vocabulary",
   "metadata": {},
   "source": [
    "### 4. Approach to weld segmentation and defect classification in radiographic images of pipe welds"
   ]
  },
  {
   "cell_type": "markdown",
   "id": "floating-trinidad",
   "metadata": {},
   "source": [
    "Detecting indications (points suspicious for defects) in weld radiographs is an important research topic in the \n",
    "field of industrial non-destructive testing. Many computer-aided detection techniques have been designed for \n",
    "such applications as detecting indications occurrence, segmentation of the indication area, classification of the \n",
    "indications. However, these techniques are mainly focused on only one of the listed problems. Different defects \n",
    "may exhibit different visual properties in shapes, sizes, textures, contrasts, and positions, that often leading to ad\u0002hoc solutions. The paper investigates to the fine tuning of the machine learning approach to high resolution \n",
    "radiograph processing produced by real-time radiography using digital detector arrays (DDA) method. The main \n",
    "contributions of this work are the preprocessing feature for human readability of the radiographic images and the \n",
    "proposed neural network-based solutions for all stages, from weld detection on the radiographic images and its \n",
    "segmentation to indication segmentation and classification. "
   ]
  },
  {
   "cell_type": "markdown",
   "id": "removable-cloud",
   "metadata": {},
   "source": [
    "#### Component structure of the system"
   ]
  },
  {
   "cell_type": "markdown",
   "id": "immediate-insider",
   "metadata": {},
   "source": [
    "As a solution to this problem, this paper proposes the automated \n",
    "approach to defect detection and defect classification of pipe longitu\u0002dinal welded joints using radiographs. Among the potential research \n",
    "topics, this work investigates the welded joint detection on the radiographs through DNNs (Deep Neural Networks)."
   ]
  },
  {
   "cell_type": "markdown",
   "id": "touched-amateur",
   "metadata": {},
   "source": [
    "A DNN is one of the deep-learning architectures. The term applies to \n",
    "an artificial neural network (ANN) with multiple layers between the \n",
    "input and output layers. The DNNs proposed for the image processing \n",
    "have many layers, hence the name “deep” networks. Most of used in the \n",
    "paper deep neural networks belongs to convolutional neural network \n",
    "(CNN, or ConvNet) that is a class of deep neural networks, most \n",
    "commonly applied to analyzing visual imagery. The CNNs are regular\u0002ized versions of multilayer perceptrons. "
   ]
  },
  {
   "cell_type": "markdown",
   "id": "boolean-occurrence",
   "metadata": {},
   "source": [
    "The proposed algorithm of defect detection and classification is \n",
    "based on segmentation and classification neural networks. It consists of \n",
    "six subsequent stages: \n",
    "1. Image preprocessing \n",
    "2. Segmentation of the weld area \n",
    "3. Weld classification \n",
    "4. Defect segmentation for the weld with indications \n",
    "5. Defect classification for the weld with indications, \n",
    "6. Image post-processing"
   ]
  },
  {
   "cell_type": "markdown",
   "id": "literary-smell",
   "metadata": {},
   "source": [
    "#### The proposed approach"
   ]
  },
  {
   "cell_type": "markdown",
   "id": "ethical-restoration",
   "metadata": {},
   "source": [
    "Figures Fig. 1 and Fig. 2 show an examples of the pipe welds samples \n",
    "numbered with defect type number in the list above. \n",
    "In this paper, a promising approach is proposed for weld defect \n",
    "detection and classification, which consists of six stages: image pre\u0002processing, weld segmentation, weld classification, defect segmentation, \n",
    "defect classification, and image postprocessing. The following sections \n",
    "describe those stages."
   ]
  },
  {
   "cell_type": "markdown",
   "id": "juvenile-lying",
   "metadata": {},
   "source": [
    "<img src=\"img/fig 8.png\">\n",
    "<img src=\"img/fig 9.png\">"
   ]
  },
  {
   "cell_type": "markdown",
   "id": "higher-samba",
   "metadata": {},
   "source": [
    "The most popular state-of-art image segmentation and classification \n",
    "techniques were tested during our approach invention. Testing uses 15% \n",
    "of the dataset not opened in the training sample. The training process \n",
    "includes tuning the model parameters, batch size, used optimizer, \n",
    "learning rate, epoch number, augmentation characteristics, etc. See \n",
    "below for testing results for various algorithm steps. The defect segmentation tests the same neural networks as weld \n",
    "segmentation. The best score belongs to the FgSegNet_M model with F1- \n",
    "score equal to 0.911. "
   ]
  },
  {
   "cell_type": "markdown",
   "id": "friendly-solomon",
   "metadata": {},
   "source": [
    "#### Conclusion"
   ]
  },
  {
   "cell_type": "markdown",
   "id": "recent-consolidation",
   "metadata": {},
   "source": [
    "The advantage of the newly presented approach is fast, automatic \n",
    "weld detection in an extensive range of image quality. The proposed \n",
    "defect segmentation approach handles small and huge defects in the \n",
    "same way.  Approach consider a software \n",
    "development process of the defects detection as tool construction. We \n",
    "also provide our analysis of the best candidates for all stages of the \n",
    "detection and classification process. The proposed approach consists of \n",
    "image preprocessing, weld detection, weld classification, defect detection, defect classification, and image postprocessing. The experiments \n",
    "show that weld segmentation with FgSegNet_v2 neural network has an \n",
    "F1-score 96.94%. Weld classification with Efficient-B3 neural network \n",
    "has 100% F1-score. Defect segmentation with FgSegNet_M neural \n",
    "network has an F1-score 91.19%. The final defect classification stage \n",
    "with Efficient-B0 gives 82.73% and 96.76% of categorical accuracy by \n",
    "top1 and top2 correspondingly. Further work is real-time image pro\u0002cessing as part of the embedded algorithm for DDA unit"
   ]
  },
  {
   "cell_type": "markdown",
   "id": "fiscal-chorus",
   "metadata": {},
   "source": [
    "### 5. Data on assessment and exploratory statistical correlation data analysis of sintered Nd:YAG laser welded 2507 duplex stainless steel"
   ]
  },
  {
   "cell_type": "markdown",
   "id": "recent-volume",
   "metadata": {},
   "source": [
    "The effect of Spark Plasma Sintering (SPS) parameters and\n",
    "Nd:YAG laser welding parameters such as sintering tempera\u0002ture, sintering time, welding power, welding speed, on Vick\u0002ers hardness mechanical properties of the Weld Zone(WZ)\n",
    "was statistically investigated. Rectangular plates of 2507 Du\u0002plex Stainless Steel (DSS) fabricated by SPS were joined by\n",
    "Nd: YAG laser welding process. Linear regression analysis was\n",
    "performed on the data, followed by Pearson correlation anal\u0002ysis to relate hardness with other predicting variables and\n",
    "show their statistical significance to hardness value of the\n",
    "weld zone.The evaluated R2 which is 49% was used to mea\u0002sure the closeness of the data to the regression fitted line"
   ]
  },
  {
   "cell_type": "markdown",
   "id": "ready-player",
   "metadata": {},
   "source": [
    "#### Data Description"
   ]
  },
  {
   "cell_type": "markdown",
   "id": "thermal-failure",
   "metadata": {},
   "source": [
    " Recently, material science and engineering field has accepted data science as\n",
    "a tool to analyse materials properties data. Data science has help to greatly reduce the cost save\n",
    "time in material structure design, overall reduce time in material design and its behaviour.\n",
    "The data and analyses included here corroborate the statistical analysis drawn from the study\n",
    "of ND:YAG laser welded 2507DSS. Chemical composition data analysis of the powdered 2507\n",
    "(DSS). Summarizes the experimental data gotten from the sintering\n",
    "process and laser welding of 2507 DSS which includes the sintering temperature, sintering time, welding power, welding speed and hardness. welding power, welding speed and hardness (Tab. 2)."
   ]
  },
  {
   "cell_type": "markdown",
   "id": "fatty-springer",
   "metadata": {},
   "source": [
    "<img src=\"img/fig 10.png\">"
   ]
  },
  {
   "cell_type": "markdown",
   "id": "coated-afghanistan",
   "metadata": {},
   "source": [
    "#### Data analysis"
   ]
  },
  {
   "cell_type": "markdown",
   "id": "atlantic-miami",
   "metadata": {},
   "source": [
    "A raw dataset comprising of 30 instances was subjected to preprocesing using sklearn pack\u0002ges in tensor flow, for data cleaning, normalization, followed by splitting the data into 25% testing and 75%training set and eventually subjected it to regression analysis and visualized using\n",
    "different packages in tensor flow. The determination coefficient R2, Pearson correlation coeffi\u0002cient, were determination coefficient on which we based benchmarking and prediction, respectively. Prediction data-set was used to test the model, also, process taking for the data analysis.\n"
   ]
  },
  {
   "cell_type": "markdown",
   "id": "stock-conditioning",
   "metadata": {},
   "source": [
    "### 6. Automatic Detection of Welding Defects Using Faster R-CNN"
   ]
  },
  {
   "cell_type": "markdown",
   "id": "exposed-queensland",
   "metadata": {},
   "source": [
    "In the shipbuilding industry, the non-destructive testing for welding quality inspection\n",
    "is mainly used for the permanent storage of the testing results and the radio-graphic testing which\n",
    "can visually inspect the interior of the welded part. Experts are required to properly detect the test\n",
    "results and it takes a lot of time and cost to manually Interpret the radio-graphic testing image\n",
    "of the structure over 500 blocks. The algorithms that automatically interpret the existing radio-graphic\n",
    "testing images to extract features through image pre-processing and classify the defects using neural\n",
    "networks, and only partial automation is performed. In order to implement the feature extraction\n",
    "and classification in one algorithm and to implement the overall automation, this paper proposes\n",
    "a method of automatically detecting welding defect using Faster R-CNN which is a deep learning\n",
    "basis. We analyzed the data to learn algorithms and compared the performance improvements using\n",
    "data augmentation method to artificially increase the limited data. In order to appropriately extract\n",
    "the features of the radio-graphic testing image, two internal feature extractors of Faster R-CNN were\n",
    "selected, compared, and performance evaluation was performed."
   ]
  },
  {
   "cell_type": "markdown",
   "id": "asian-standard",
   "metadata": {},
   "source": [
    "####  Welding Defect Data"
   ]
  },
  {
   "cell_type": "markdown",
   "id": "cutting-chrome",
   "metadata": {},
   "source": [
    "We compared two feature extractors to evaluate the performance, and applied data augmentation\n",
    "to maximize the efficiency of a relatively small dataset. In the dataset, the defect types are composed\n",
    "of porosity, lacks of fusion, slag, and cracks, but the labeling for each type is biased toward porosity.\n",
    "Figure 4a shows the porosity, the most common defect type, with 569 defects included in the dataset.\n",
    "Lack of fusion and slag shown in Figure 4b,c are similar in shape and the amount of data for each\n",
    "class is small, thus they are grouped into a single defect that is classified as LoS (Lack or Slag).\n",
    "For the LoS, 236 defects are included in the dataset. After learning, there are two classes classified by\n",
    "the algorithm, that is, the porosity and LoS. The dataset is composed of radiographic testing images\n",
    "taken differently depending on the steel plate, pipe, and pipe size, thus it can be read and evaluated\n",
    "without dividing the weld after learning. The radiographic testing image of the weld of the pipe\n",
    "is composed of a relatively small pixel size by removing the background on both sides as well as\n",
    "the upper and lower base materials."
   ]
  },
  {
   "cell_type": "markdown",
   "id": "alert-preview",
   "metadata": {},
   "source": [
    "<img src=\"img/fig 11.png\">"
   ]
  },
  {
   "cell_type": "markdown",
   "id": "primary-vulnerability",
   "metadata": {},
   "source": [
    "The pixel size of the images that make up the dataset is approximately 4900 × 1200 or higher,\n",
    "which is high quality. High-definition images degrade the learning rate, and it is difficult to expect\n",
    "good performance with an increase in the number of parameters to learn. To classify and read the taken\n",
    "image of the weld using radiographic testing, the information about the relevant radiographic image\n",
    "is marked on the base material. To remove noise arising from defects in the base metal or film,\n",
    "we removed the rest except for the weld and used it as the training data along with the information\n",
    "marked. Although noise is removed from the radiographic testing image, the longitudinal direction is\n",
    "maintained at a pixel size of 4900 or higher. Thus, it is necessary to reduce the size of the image by taking\n",
    "account of the learning rate and learning environment. In this study, we segmented the radiographic\n",
    "testing images to fit the weld into Sections 2–5. The segmented image becomes smaller from\n",
    "4900 pixels to less than 980 pixels, and the learning rate was reduced from 1.7 s to 0.3 s per epoch.\n",
    "Most cracks or slag are present in the longitudinal direction of the weld. These defects were segmented\n",
    "by the segmented image, thus an increased effect could be obtained from the relevant defect data.\n",
    "The total number of data increased to 341 from the 134 through image segmentation. Of them, there\n",
    "are 321 training data and 20 validation data."
   ]
  },
  {
   "cell_type": "markdown",
   "id": "ongoing-uniform",
   "metadata": {},
   "source": [
    "####  Conclusions"
   ]
  },
  {
   "cell_type": "markdown",
   "id": "infinite-spiritual",
   "metadata": {},
   "source": [
    "In this study, as the size of defects belonged to an object that was smaller than the size of existing\n",
    "objects, we set the size of the anchor box and aspect ratio to be suitable for small objects, and set\n",
    "the number of region proposal recommendations through an experiment. As the algorithms to be\n",
    "used in the experiment, we compared ResNet and Inception-ResNet V2 with the feature extractor\n",
    "of Faster R-CNN, and proposed ResNet with the highest performance. Because of the characteristics\n",
    "of shipyard radiographic testing, data is limited and the number of images that can be secured for each\n",
    "type of defect is extremely small. Therefore, data conversion is an essential element in the automatic\n",
    "welding defect detection algorithm. In this study, we used data conversion for efficient training\n",
    "and performance improvement. The experimental results show that data conversion could increase\n",
    "the performance by 0.074 in radiographic testing images. As the types of defects that actually occurred\n",
    "in the field were limited, we did not cover all of the welding defects when constructing a datase, but covered specific welding defects to increase practicality. We analyzed the dataset and then divided\n",
    "it into the porosity and LoS, but the learning performance was different because the number of defects\n",
    "for each image varied. For the porosity, 569 defects were learned but for LoS, 236 defects were learned,\n",
    "thus leading to a result that was biased toward the porosity. We increased the data of the LoS through\n",
    "data conversion and image segmentation, but could not significantly decrease the biased results.\n"
   ]
  },
  {
   "cell_type": "markdown",
   "id": "previous-cheese",
   "metadata": {},
   "source": [
    "### 7. Resistance Spot Welding of Aluminum Alloy and Carbon Steel with Spooling Process Tapes"
   ]
  },
  {
   "cell_type": "markdown",
   "id": "unauthorized-accused",
   "metadata": {},
   "source": [
    "Many lightweight materials, including aluminum alloy, magnesium alloy, and plastic, have\n",
    "been used for automotives. Aluminum alloy—the most commonly utilized lightweight metal—has\n",
    "poor resistance spot weldability owing to its inherent properties, which demand the development of\n",
    "welding solutions. Various welding techniques are utilized to improve the resistance spot weldability\n",
    "of aluminum alloy, including DeltaSpot welding. However, the technological development for\n",
    "welding dissimilar metals (aluminum alloy and steel) required for vehicle body assembly is still in\n",
    "its nascent stages. This study proposes DeltaSpot welding (a resistance spot welding process with\n",
    "spooling process tapes) using the alloy combination of 6000 series aluminum alloy (Al 6K32) and\n",
    "440 MPa grade steel (SGARC 440). The welding characteristics of the main process parameters in\n",
    "DeltaSpot welding were analyzed and the weldability of the combination of the aluminum alloy,\n",
    "Al 6K32, and 440 MPa grade steel was evaluated. In addition, the characteristics of the intermetallic\n",
    "compound layer between the 440 MPa grade steel and Al 6K32 sheets were identified via scanning\n",
    "electron microscopy/energy dispersive X-ray spectroscopy (SEM-EDS)."
   ]
  },
  {
   "cell_type": "markdown",
   "id": "thirty-advantage",
   "metadata": {},
   "source": [
    "#### Component structure of the system"
   ]
  },
  {
   "cell_type": "markdown",
   "id": "experimental-working",
   "metadata": {},
   "source": [
    " DeltaSpot welding machine fundamentally differs\n",
    "from other spot welding machines in that a process tape runs between the base metal and the electrode.\n",
    "This process tape protects the electrode from contamination by the aluminum alloy, considerably\n",
    "extending the service life of the electrode. The process tape also increases weldability owing to its\n",
    "high electrical resistance, which compensates for the low resistivity of aluminum alloy and facilitates\n",
    "the resistance control of the weld zone. Figure 1 shows the schematic of a DeltaSpot welding process\n",
    "using process tapes. When the first welding is completed, the process tape between the electrode and\n",
    "the sheet advances. In the second welding, a new process tape is supplied and the welding proceeds.\n",
    "In the same way as the second welding, the third welding is supplied with a new process tape to\n",
    "proceed with the welding. This unique feature of DeltaSpot welding prevents electrode contamination\n",
    "and welding expulsion, and it increases the input heat by generating more resistance between the base\n",
    "metal and the electrode compared with other spot welding machines.\n"
   ]
  },
  {
   "cell_type": "markdown",
   "id": "lyric-first",
   "metadata": {},
   "source": [
    "<img src=\"img/fig 12.png\">"
   ]
  },
  {
   "cell_type": "markdown",
   "id": "duplicate-concentrate",
   "metadata": {},
   "source": [
    "In Table 4, when the main current time was 166 ms, interfacial fracture occurred at all current\n",
    "conditions and expulsion occurred at the current condition of 13 kA. At 332 ms, the plug fracture\n",
    "occurred at all current conditions, and the expulsion occurred at current conditions of 11 kA and 13 kA.\n",
    "At 500 ms, interfacial fracture occurred at all current conditions, and expulsion occurred at current\n",
    "conditions of 11 kA and 13 kA"
   ]
  },
  {
   "cell_type": "markdown",
   "id": "integrated-setup",
   "metadata": {},
   "source": [
    "<img src=\"img/fig 13.png\">"
   ]
  },
  {
   "cell_type": "markdown",
   "id": "local-shore",
   "metadata": {},
   "source": [
    "#### Conclusions"
   ]
  },
  {
   "cell_type": "markdown",
   "id": "statistical-reconstruction",
   "metadata": {},
   "source": [
    "In this study, RSW between aluminum alloy (Al 6K32 1.0t) and carbon steel (SGARC 440 1.0t), which n this study, RSW between aluminum alloy (Al 6K32 1.0t) and carbon steel (SGARC 440 1.0t), \n",
    "which could not be solved using conventional RSW processes, was achieved by using a DeltaSpot \n",
    "welding system, and the RSW characteristics for different base metal combinations of aluminum alloy and various steel types were analyze. The findings of this study can be summarized as follows:"
   ]
  },
  {
   "cell_type": "markdown",
   "id": "julian-relative",
   "metadata": {},
   "source": [
    "1. In the RSW of aluminum alloy to steel, lobe curve comparison verified the superiority of \n",
    "DeltaSpot welding to inverter DC spot welding in terms of the acceptable weld zone and weld \n",
    "stability owing to the effects of the process tape.\n",
    "2. The optimum values of six DeltaSpot welding process parameters were derived from the analysis\n",
    "results for the welding characteristics of eight process parameters selected based on the results of\n",
    "an earlier study on the RSW of an aluminum alloy (Al 6K32) of the same thickness.\n",
    "3. Weldability was evaluated as a function of the main current time, a main parameter along with\n",
    "the current level and force 1. The results of the lobe curve analysis revealed an overall tendency\n",
    "of the acceptable weld zone to move from the high- to low-current range, whereby no acceptable\n",
    "weld zone was formed in the range lower than 7 kA.\n",
    "4. Weldability of aluminum alloy to different steel types was evaluated in order to enhance its\n",
    "applicability to different welding process conditions based on the steel types used in vehicle body\n",
    "assembly. The comparison of the weldability of aluminum alloy to zinc-coated and uncoated\n",
    "steel sheets revealed its weldability to uncoated steel sheets to be very low. This low weldability\n",
    "seems to be attributable to the fact that zinc melted onto the surface of the zinc-coated steel sheet\n",
    "forms a compound in the IMC layer, thus improving the bonding force. The difference in the zinc\n",
    "content in the IMC layer was verified by SEM-EDS analysis."
   ]
  },
  {
   "cell_type": "markdown",
   "id": "limited-nebraska",
   "metadata": {},
   "source": [
    "### 8. Defects Detection of Gas Pipeline Near the Welds Based on Self Quotient Image and Discrete Cosine Transform"
   ]
  },
  {
   "cell_type": "markdown",
   "id": "timely-multimedia",
   "metadata": {},
   "source": [
    "The magnetic flux leakage (MFL) inspection has been widely used in the inline inspection\n",
    "for the evaluation of steel pipelines and plates. In this paper, a defect detection algorithm based on the\n",
    "MFL inspection is proposed for detecting defects near the welds. The defect in this paper means some\n",
    "deformations and deterioration of steel pipes because of corrosions and cracks by humidity and pressure after gas pipes were buried and it doesn’t mean bad welding. The MFL signal of the defects near\n",
    "the welds is worse than that of the far-away from the welds and has low signal-to-noise ratio (SNR).\n",
    "In this paper, the MFL signal of the defects near the welds is enhanced by using the Self Quotient\n",
    "Image (SQI) in this paper and the position of the defects is detected after applying the Discrete Cosine\n",
    "Transform (DCT). Experiments are conducted to demonstrate the accuracy of the proposed defect\n",
    "detection algorithm for the artificial defects carved on the pipes at the pipeline simulation facility\n",
    "(PSF) and the results show that the proposed algorithm can successfully detect the position of the\n",
    "defects on the pipes near the welds"
   ]
  },
  {
   "cell_type": "markdown",
   "id": "advanced-elevation",
   "metadata": {},
   "source": [
    "#### PREPROCESSING OF MFL SIGNAL USING THE SQI"
   ]
  },
  {
   "cell_type": "markdown",
   "id": "diverse-glucose",
   "metadata": {},
   "source": [
    "SQI is a kind of high pass filter (HPF) that separates the signal of low-frequency region based on the\n",
    "information of an original image. As the name implies, SQI is the ratio image between an original image\n",
    "and a low frequency image of the original. In this paper, Gaussian kernel is used as a low-pass filter\n",
    "and the size of the kernel is set to 24 empirically. It is widely\n",
    "used for object recognition like face recognition and vehicle detection under varying lighting condition"
   ]
  },
  {
   "cell_type": "markdown",
   "id": "wicked-booking",
   "metadata": {},
   "source": [
    " If all conditions are\n",
    "equal, a radial MFL signal is about 1.3 times bigger than others. But, radial MFL signal is usually polluted by noises such as blooming noise, PIG velocity variation-induced noise, etc., and is also hard to process because a radial MFL signal is affected by the signals due to the welds. For such a reason, proposed\n",
    "defect detection algorithm uses the axial MFL signal. In this paper, 8-point DCT was applied to axial\n",
    "MFL signal and only the 2nd coefficients are used to make a new signal by inverse transforming the coefficients. The basis function of the 2nd coefficients is a cosine function and the coefficient is sensitive to the\n",
    "shape of the axial MFL signal having defects."
   ]
  },
  {
   "cell_type": "markdown",
   "id": "significant-creek",
   "metadata": {},
   "source": [
    "Figure 7 summarizes overall block diagram of the proposed algorithm from the signal acquisition to the\n",
    "defect detection"
   ]
  },
  {
   "cell_type": "markdown",
   "id": "white-mumbai",
   "metadata": {},
   "source": [
    "<img src=\"img/fig 14.png\">"
   ]
  },
  {
   "cell_type": "markdown",
   "id": "bound-hearing",
   "metadata": {},
   "source": [
    "#### Conclusions"
   ]
  },
  {
   "cell_type": "markdown",
   "id": "important-essence",
   "metadata": {},
   "source": [
    "In this paper, a defect detection algorithm using SQI and DCT is proposed for detecting defects near\n",
    "the welds. Raw MFL signal from a MFL PIG is noisy and inconsistent bias occurred by PIG velocity,\n",
    "physical environmental conditions, pipe welding, etc. These noise and inconsistency are main obstacles\n",
    "of detecting defects. Proposed algorithm tries to find a solution to reduce the impact of these obstacles.\n",
    "In this paper, inconsistent bias of MFL signal occurred from various environmental conditions is\n",
    "reduced by SQI and the pseudo radial MFL signals are generated from the axial MFL signals by applying\n",
    "DCT. Experimental results are presented to demonstrate the accuracy of the proposed defect detection\n",
    "algorithm for the artificial defects carved on the pipes at the PSF. It shows that the proposed algorithm\n",
    "can successfully detect the position of defects on the pipes near the welds. T"
   ]
  },
  {
   "cell_type": "markdown",
   "id": "parental-degree",
   "metadata": {},
   "source": [
    "### 9. Performance Evaluation of Arc Welding Process Using Weld Data Analysis"
   ]
  },
  {
   "cell_type": "markdown",
   "id": "armed-effectiveness",
   "metadata": {},
   "source": [
    "Shielded metal arc welding (SMAW) and metal\n",
    "inert gas (GMAW) welding process are the two most\n",
    "widely used welding processes. These processes are widely\n",
    "used for the construction and fabrication purpose in almost\n",
    "all type of industries. Some of the important factors which\n",
    "govern the weld quality in these welding processes are\n",
    "welding power sources, role of shielding gas (for GMAW\n",
    "process), welding consumables and skill of the welders.\n",
    "Currently, effects of these factors are evaluated by examining the quality of the weld produced and not by moni\u0002toring how welding process is affected by change in these\n",
    "factors. This is an indirect method because actual contribution made by individual parameter in physical process is\n",
    "effectively ignored. Further, this is expensive and timeconsuming as the assessment can be carried out only after\n",
    "the weld is completed. Hence, a procedure to assess the\n",
    "quality of welding process using the data acquired while\n",
    "welding is in progress is preferred to testing of the weld for\n",
    "this purpose. In both SMAW and GMAW processes,\n",
    "welding speed, voltage and current are important parameters that affect the quality of the welds. Among these,\n",
    "monitoring of welding speed is relatively easy; but monitoring voltage and current is not. This is because, welding\n",
    "is a stochastic process in which wide variation in voltage\n",
    "and current occurs and duration of these variations is so\n",
    "short that they are not observed in the voltage and current displayed in the power source."
   ]
  },
  {
   "cell_type": "markdown",
   "id": "seeing-milton",
   "metadata": {},
   "source": [
    "#### Data Acquisition"
   ]
  },
  {
   "cell_type": "markdown",
   "id": "approved-kentucky",
   "metadata": {},
   "source": [
    "For recording the welding process online, a DSO (Agilent\n",
    "Technologies, DSO7054B) of 500 MHz bandwidth and\n",
    "maximum sampling rate of 4 GSa/s was used. "
   ]
  },
  {
   "cell_type": "markdown",
   "id": "junior-recall",
   "metadata": {},
   "source": [
    "#### Conclusions"
   ]
  },
  {
   "cell_type": "markdown",
   "id": "common-transaction",
   "metadata": {},
   "source": [
    "In the present research, we have shown that how welding\n",
    "data acquired by using commercially available general\n",
    "purpose DSO can be used for high-speed data acquisition\n",
    "of the arc welding processes to study various arc welding\n",
    "processes. It is shown that using appropriate statistical analysis of the data, it is possible to differentiate between\n",
    "performance of different arc welding power sources in\n",
    "SMAW process and effect of shielding gas composition on\n",
    "the GMAW process. Performance of different power\n",
    "sources of the same type can also be differentiated by this procedure. It is also shown how, in GMAW process, mode\n",
    "of metal transfer varies with change in composition of the\n",
    "shielding gas or change in current. Hence, based on these\n",
    "results as well as the results reported earlier on differentiating welding consumables and evaluating the skill o welders, a new procedure, which involves data\n",
    "acquisition and subsequent statistical data analysis has\n",
    "been proposed as an effective method for a comprehensive\n",
    "study of the arc welding processes."
   ]
  },
  {
   "cell_type": "markdown",
   "id": "enclosed-wagner",
   "metadata": {},
   "source": [
    "### 10. Real-Time Detection of Weld Defects for Automated Welding Process Base on Deep Neural Network"
   ]
  },
  {
   "cell_type": "markdown",
   "id": "aging-navigation",
   "metadata": {},
   "source": [
    " In the process of welding zinc-coated steel, zinc vapor causes serious porosity defects.\n",
    "The porosity defect is an important indicator of the quality of welds and degrades the durability\n",
    "and productivity of the weld. Therefore, this study proposes a deep neural network (DNN)-based\n",
    "non-destructive testing method that can detect and predict porosity defects in real-time, based on\n",
    "welding voltage signal, without requiring additional device in gas metal arc welding (GMAW) process.\n",
    "To this end, a galvannealed hot-rolled high-strength steel sheet applied to automotive parts was used\n",
    "to measure process signals in real-time. Then, feature variables were extracted through preprocessing,\n",
    "and correlation between the feature variables and weld porosity was analyzed. The proposed DNN\n",
    "based framework outperformed the artificial neural network (ANN) model by 15% or more. Finally,\n",
    "an experiment was conducted by using the developed porosity detection and prediction system to\n",
    "evaluate its field application."
   ]
  },
  {
   "cell_type": "markdown",
   "id": "collective-tuner",
   "metadata": {},
   "source": [
    "####  Relationship between Feature Variables and Porosity Using Welding Voltage Signal"
   ]
  },
  {
   "cell_type": "markdown",
   "id": "engaging-punishment",
   "metadata": {},
   "source": [
    "In general, the weld porosity were reduced in the presence of gaps between workpieces. The reason for this neral, the weld porosity were reduced in the presence of gaps between workpieces. The \n",
    "reason for this is that the gap becomes the discharge path of zinc vapor, and thus, the zinc vapor is \n",
    "released. In this study, the relationship between the porosity generated in the weld and the welding \n",
    "voltage signal was analyzed by comparing the case with no gap and 0.5 mm gap. In addition, \n",
    "radiogrophic testing was conducted to identify the porosity location and match the weld voltage \n",
    "signal. Figures 3 and 4 illustrate the measurement result, and in the presence of gap, the porosity of the weld were significantly reduced."
   ]
  },
  {
   "cell_type": "markdown",
   "id": "timely-cheat",
   "metadata": {},
   "source": [
    "<img src=\"img/fig 15.png\">\n",
    "<img src=\"img/fig 16.png\">"
   ]
  },
  {
   "cell_type": "markdown",
   "id": "scenic-network",
   "metadata": {},
   "source": [
    "####  Deep Neural Network (DNN)"
   ]
  },
  {
   "cell_type": "markdown",
   "id": "fifty-guatemala",
   "metadata": {},
   "source": [
    "The activation function was introduced to explain that the backpropagation algorithm was a sigmoid function. The solve this problem, the DNN introduces a restricted linear unit (ReLU) function as a new \n",
    "activation function. The ReLU function is a simple function that outputs the input value if the input \n",
    "value is greater than zero and outputs zero if the input value is zero or lower. This activation function \n",
    "completes a DNN structure that can perform classification and prediction more accurately by \n",
    "implementing the hidden layers deeper, and wider, to solve the vanishing gradient problem, which has not been overcome before. Table 7 compares the sigmoid function, which is a representative ANN\n",
    "activation function, and the ReLU function, which is frequently used in DNNs."
   ]
  },
  {
   "cell_type": "markdown",
   "id": "cardiovascular-portrait",
   "metadata": {},
   "source": [
    "In this study, arc welding process signals were measured in real-time in the process shown in Figure 18. In addition, feature variables were extracted through a preprocessing process and applied to the DNN model to develop a system that can detect and predict porosity defects."
   ]
  },
  {
   "cell_type": "markdown",
   "id": "correct-queue",
   "metadata": {},
   "source": [
    "<img src=\"img/fig 17.png\">"
   ]
  },
  {
   "cell_type": "markdown",
   "id": "nervous-uncle",
   "metadata": {},
   "source": [
    "#### Conclusions"
   ]
  },
  {
   "cell_type": "markdown",
   "id": "knowing-queensland",
   "metadata": {},
   "source": [
    "This study developed a system for detecting and predicting porosity defects, generated in the\n",
    "welded part, by using the galvannealed high-strength steel sheet, used for automobile parts in the\n",
    "GMAW process. The primary achievements can be summarized as follows.\n",
    "1. The welding current and arc voltage signals generated in the GMAW process were measured\n",
    "in real-time, and the feature variables were extracted through preprocessing. In addition, the\n",
    "correlation between the feature variable and the porosity was analyzed to select the feature\n",
    "variable that is considered to be the defect signal.\n",
    "2. An artificial intelligence technique suitable for nonlinear arc welding process prediction was used,\n",
    "and a model was developed to detect and predict porosity by comparing DNN and ANN models.\n",
    "3. The predictive performance of ANN model and DNN model was evaluated. The evaluation\n",
    "result shows that the predictive performance of the DNN model is 15.2% higher than the ANN\n",
    "model on average.\n",
    "4. An experiment was performed using the developed system to evaluate it for field application.\n",
    "The results indicated that all the pits generated in the welded part were detected.\n",
    "5. It has the advantage of easy site application and low initial equipment cost because it is an NDT\n",
    "system that detects and predicts porosity defects in the weld by using only arc welding process\n",
    "signals without additional devices."
   ]
  },
  {
   "cell_type": "markdown",
   "id": "developed-commitment",
   "metadata": {},
   "source": [
    "## Problems and conclusions noticed"
   ]
  },
  {
   "cell_type": "markdown",
   "id": "processed-transformation",
   "metadata": {},
   "source": [
    "I used supervised learning as the first learning model to try to find patterns that would allow me to define quality based on temperature. However, during the analysis performed, it turned out that without the additional classification information provided by the operator, the system itself cannot accurately determine the quality without a pattern. Data clusters do not provide quality information when clustering is performed. In the literature, photos of the weld / seam and the appropriate marking of the finished product are used for this. On their basis, the model receives additional information to facilitate learning. A high-speed camera is installed in the welder on which the tests are carried out, which allows to take a photo of the weld and, in the further part of the production, to mark the finished product with screen printing. In order to easily complete the information, a form has been prepared that allows the operator to enter information about the welded joint together with a photo and product marking, allowing the product to be classified into the appropriate quality class. The form will be made available to the operator and the quality controller during my internship."
   ]
  },
  {
   "cell_type": "markdown",
   "id": "going-scotland",
   "metadata": {},
   "source": [
    "Link to the form: https://forms.gle/ahZte6XEyzYHbMYLA"
   ]
  },
  {
   "cell_type": "markdown",
   "id": "biological-ordinary",
   "metadata": {},
   "source": [
    "## An attempt to determine the quality using linear regression"
   ]
  },
  {
   "cell_type": "markdown",
   "id": "impressed-headset",
   "metadata": {},
   "source": [
    "### Samples 1\n",
    "Modeling \"WeldTempLandPiro\" based on:\n",
    "1. timestamp\n",
    "2. Power; Volt; Curr; Freq\n",
    "3. act_speed\n",
    "4. profile\n",
    "5. material"
   ]
  },
  {
   "cell_type": "code",
   "execution_count": 2,
   "id": "civil-investigator",
   "metadata": {},
   "outputs": [],
   "source": [
    "import pandas as pd\n",
    "import matplotlib.pyplot as plt"
   ]
  },
  {
   "cell_type": "code",
   "execution_count": 3,
   "id": "royal-metro",
   "metadata": {},
   "outputs": [],
   "source": [
    "df = pd.read_excel('probki_grudzien_2021.xls', sheet_name=\"Probki1\")"
   ]
  },
  {
   "cell_type": "code",
   "execution_count": 4,
   "id": "expired-responsibility",
   "metadata": {},
   "outputs": [
    {
     "data": {
      "text/html": [
       "<div>\n",
       "<style scoped>\n",
       "    .dataframe tbody tr th:only-of-type {\n",
       "        vertical-align: middle;\n",
       "    }\n",
       "\n",
       "    .dataframe tbody tr th {\n",
       "        vertical-align: top;\n",
       "    }\n",
       "\n",
       "    .dataframe thead th {\n",
       "        text-align: right;\n",
       "    }\n",
       "</style>\n",
       "<table border=\"1\" class=\"dataframe\">\n",
       "  <thead>\n",
       "    <tr style=\"text-align: right;\">\n",
       "      <th></th>\n",
       "      <th>timestamp</th>\n",
       "      <th>Unnamed: 1</th>\n",
       "      <th>Volt</th>\n",
       "      <th>Curr</th>\n",
       "      <th>Freq</th>\n",
       "      <th>defect</th>\n",
       "      <th>WeldTempMain</th>\n",
       "      <th>WeldTempPiro</th>\n",
       "      <th>WeldTempLandPiro</th>\n",
       "      <th>Power</th>\n",
       "      <th>Speed</th>\n",
       "      <th>act_speed</th>\n",
       "    </tr>\n",
       "  </thead>\n",
       "  <tbody>\n",
       "    <tr>\n",
       "      <th>0</th>\n",
       "      <td>2021-12-08T13:45:00.000000Z</td>\n",
       "      <td>2021-12-08 13:45:00.000</td>\n",
       "      <td>03:28:20.024000</td>\n",
       "      <td>0.21701</td>\n",
       "      <td>1.302094</td>\n",
       "      <td>2.0</td>\n",
       "      <td>900</td>\n",
       "      <td>700.000000</td>\n",
       "      <td>538.787598</td>\n",
       "      <td>0.001099</td>\n",
       "      <td>-2.893517</td>\n",
       "      <td>0.0</td>\n",
       "    </tr>\n",
       "    <tr>\n",
       "      <th>1</th>\n",
       "      <td>2021-12-08T13:45:00.100000Z</td>\n",
       "      <td>2021-12-08 13:45:00.100</td>\n",
       "      <td>03:28:20.024000</td>\n",
       "      <td>0.21701</td>\n",
       "      <td>1.302094</td>\n",
       "      <td>2.0</td>\n",
       "      <td>900</td>\n",
       "      <td>700.000000</td>\n",
       "      <td>538.787598</td>\n",
       "      <td>0.001099</td>\n",
       "      <td>-2.893517</td>\n",
       "      <td>0.0</td>\n",
       "    </tr>\n",
       "    <tr>\n",
       "      <th>2</th>\n",
       "      <td>2021-12-08T13:45:00.200000Z</td>\n",
       "      <td>2021-12-08 13:45:00.200</td>\n",
       "      <td>03:28:20.024000</td>\n",
       "      <td>0.21701</td>\n",
       "      <td>1.302094</td>\n",
       "      <td>2.0</td>\n",
       "      <td>900</td>\n",
       "      <td>700.000000</td>\n",
       "      <td>538.787598</td>\n",
       "      <td>0.001099</td>\n",
       "      <td>-2.893517</td>\n",
       "      <td>0.0</td>\n",
       "    </tr>\n",
       "    <tr>\n",
       "      <th>3</th>\n",
       "      <td>2021-12-08T13:45:00.300000Z</td>\n",
       "      <td>2021-12-08 13:45:00.300</td>\n",
       "      <td>03:28:20.024000</td>\n",
       "      <td>0.21701</td>\n",
       "      <td>1.302094</td>\n",
       "      <td>2.0</td>\n",
       "      <td>900</td>\n",
       "      <td>700.000000</td>\n",
       "      <td>538.787598</td>\n",
       "      <td>0.001099</td>\n",
       "      <td>-2.893517</td>\n",
       "      <td>0.0</td>\n",
       "    </tr>\n",
       "    <tr>\n",
       "      <th>4</th>\n",
       "      <td>2021-12-08T13:45:00.400000Z</td>\n",
       "      <td>2021-12-08 13:45:00.400</td>\n",
       "      <td>03:28:20.024000</td>\n",
       "      <td>0.21701</td>\n",
       "      <td>1.302094</td>\n",
       "      <td>2.0</td>\n",
       "      <td>900</td>\n",
       "      <td>700.000000</td>\n",
       "      <td>538.787598</td>\n",
       "      <td>0.001099</td>\n",
       "      <td>-2.893517</td>\n",
       "      <td>0.0</td>\n",
       "    </tr>\n",
       "    <tr>\n",
       "      <th>5</th>\n",
       "      <td>2021-12-08T13:45:00.500000Z</td>\n",
       "      <td>2021-12-08 13:45:00.500</td>\n",
       "      <td>03:28:20.024000</td>\n",
       "      <td>0.21701</td>\n",
       "      <td>1.302094</td>\n",
       "      <td>2.0</td>\n",
       "      <td>900</td>\n",
       "      <td>700.000000</td>\n",
       "      <td>538.787598</td>\n",
       "      <td>0.001099</td>\n",
       "      <td>-2.893517</td>\n",
       "      <td>0.0</td>\n",
       "    </tr>\n",
       "    <tr>\n",
       "      <th>6</th>\n",
       "      <td>2021-12-08T13:45:00.600000Z</td>\n",
       "      <td>2021-12-08 13:45:00.600</td>\n",
       "      <td>03:28:20.024000</td>\n",
       "      <td>0.21701</td>\n",
       "      <td>1.302094</td>\n",
       "      <td>2.0</td>\n",
       "      <td>900</td>\n",
       "      <td>700.000000</td>\n",
       "      <td>538.787598</td>\n",
       "      <td>0.001099</td>\n",
       "      <td>-2.893517</td>\n",
       "      <td>0.0</td>\n",
       "    </tr>\n",
       "    <tr>\n",
       "      <th>7</th>\n",
       "      <td>2021-12-08T13:45:00.700000Z</td>\n",
       "      <td>2021-12-08 13:45:00.700</td>\n",
       "      <td>03:28:20.024000</td>\n",
       "      <td>0.21701</td>\n",
       "      <td>1.302094</td>\n",
       "      <td>2.0</td>\n",
       "      <td>900</td>\n",
       "      <td>700.000000</td>\n",
       "      <td>538.787598</td>\n",
       "      <td>0.001099</td>\n",
       "      <td>-2.893517</td>\n",
       "      <td>0.0</td>\n",
       "    </tr>\n",
       "    <tr>\n",
       "      <th>8</th>\n",
       "      <td>2021-12-08T13:45:00.800000Z</td>\n",
       "      <td>2021-12-08 13:45:00.800</td>\n",
       "      <td>03:28:20.024000</td>\n",
       "      <td>0.21701</td>\n",
       "      <td>1.302094</td>\n",
       "      <td>2.0</td>\n",
       "      <td>900</td>\n",
       "      <td>700.000000</td>\n",
       "      <td>538.787598</td>\n",
       "      <td>0.001099</td>\n",
       "      <td>-2.893517</td>\n",
       "      <td>0.0</td>\n",
       "    </tr>\n",
       "    <tr>\n",
       "      <th>9</th>\n",
       "      <td>2021-12-08T13:45:00.900000Z</td>\n",
       "      <td>2021-12-08 13:45:00.900</td>\n",
       "      <td>03:28:20.024000</td>\n",
       "      <td>0.21701</td>\n",
       "      <td>1.302094</td>\n",
       "      <td>2.0</td>\n",
       "      <td>900</td>\n",
       "      <td>700.000000</td>\n",
       "      <td>538.787598</td>\n",
       "      <td>0.001099</td>\n",
       "      <td>-2.893517</td>\n",
       "      <td>0.0</td>\n",
       "    </tr>\n",
       "    <tr>\n",
       "      <th>10</th>\n",
       "      <td>2021-12-08T13:45:01.000000Z</td>\n",
       "      <td>2021-12-08 13:45:01.000</td>\n",
       "      <td>03:28:20.024000</td>\n",
       "      <td>0.21701</td>\n",
       "      <td>1.302094</td>\n",
       "      <td>2.0</td>\n",
       "      <td>900</td>\n",
       "      <td>700.000000</td>\n",
       "      <td>538.787598</td>\n",
       "      <td>0.001099</td>\n",
       "      <td>-2.893517</td>\n",
       "      <td>0.0</td>\n",
       "    </tr>\n",
       "    <tr>\n",
       "      <th>11</th>\n",
       "      <td>2021-12-08T13:45:01.100000Z</td>\n",
       "      <td>2021-12-08 13:45:01.100</td>\n",
       "      <td>03:28:20.024000</td>\n",
       "      <td>0.21701</td>\n",
       "      <td>1.302094</td>\n",
       "      <td>2.0</td>\n",
       "      <td>900</td>\n",
       "      <td>700.000000</td>\n",
       "      <td>538.787598</td>\n",
       "      <td>0.001099</td>\n",
       "      <td>-2.893517</td>\n",
       "      <td>0.0</td>\n",
       "    </tr>\n",
       "    <tr>\n",
       "      <th>12</th>\n",
       "      <td>2021-12-08T13:45:01.200000Z</td>\n",
       "      <td>2021-12-08 13:45:01.200</td>\n",
       "      <td>03:28:20.024000</td>\n",
       "      <td>0.21701</td>\n",
       "      <td>1.302094</td>\n",
       "      <td>2.0</td>\n",
       "      <td>900</td>\n",
       "      <td>700.000000</td>\n",
       "      <td>538.787598</td>\n",
       "      <td>0.001099</td>\n",
       "      <td>-2.893517</td>\n",
       "      <td>0.0</td>\n",
       "    </tr>\n",
       "    <tr>\n",
       "      <th>13</th>\n",
       "      <td>2021-12-08T13:45:01.300000Z</td>\n",
       "      <td>2021-12-08 13:45:01.300</td>\n",
       "      <td>03:28:20.024000</td>\n",
       "      <td>0.21701</td>\n",
       "      <td>1.302094</td>\n",
       "      <td>2.0</td>\n",
       "      <td>900</td>\n",
       "      <td>700.000000</td>\n",
       "      <td>538.787598</td>\n",
       "      <td>0.001099</td>\n",
       "      <td>-2.893517</td>\n",
       "      <td>0.0</td>\n",
       "    </tr>\n",
       "    <tr>\n",
       "      <th>14</th>\n",
       "      <td>2021-12-08T13:45:01.400000Z</td>\n",
       "      <td>2021-12-08 13:45:01.400</td>\n",
       "      <td>03:28:20.024000</td>\n",
       "      <td>0.21701</td>\n",
       "      <td>1.302094</td>\n",
       "      <td>2.0</td>\n",
       "      <td>900</td>\n",
       "      <td>700.000000</td>\n",
       "      <td>538.787598</td>\n",
       "      <td>0.001099</td>\n",
       "      <td>-2.893517</td>\n",
       "      <td>0.0</td>\n",
       "    </tr>\n",
       "    <tr>\n",
       "      <th>15</th>\n",
       "      <td>2021-12-08T13:45:01.500000Z</td>\n",
       "      <td>2021-12-08 13:45:01.500</td>\n",
       "      <td>03:28:20.024000</td>\n",
       "      <td>0.21701</td>\n",
       "      <td>1.302094</td>\n",
       "      <td>2.0</td>\n",
       "      <td>900</td>\n",
       "      <td>700.000000</td>\n",
       "      <td>538.787598</td>\n",
       "      <td>0.001099</td>\n",
       "      <td>-2.893517</td>\n",
       "      <td>0.0</td>\n",
       "    </tr>\n",
       "    <tr>\n",
       "      <th>16</th>\n",
       "      <td>2021-12-08T13:45:01.600000Z</td>\n",
       "      <td>2021-12-08 13:45:01.600</td>\n",
       "      <td>03:28:20.024000</td>\n",
       "      <td>0.21701</td>\n",
       "      <td>1.302094</td>\n",
       "      <td>2.0</td>\n",
       "      <td>900</td>\n",
       "      <td>700.000000</td>\n",
       "      <td>538.787598</td>\n",
       "      <td>0.001099</td>\n",
       "      <td>-2.893517</td>\n",
       "      <td>0.0</td>\n",
       "    </tr>\n",
       "    <tr>\n",
       "      <th>17</th>\n",
       "      <td>2021-12-08T13:45:01.700000Z</td>\n",
       "      <td>2021-12-08 13:45:01.700</td>\n",
       "      <td>03:28:20.024000</td>\n",
       "      <td>0.21701</td>\n",
       "      <td>1.302094</td>\n",
       "      <td>2.0</td>\n",
       "      <td>900</td>\n",
       "      <td>700.000000</td>\n",
       "      <td>538.787598</td>\n",
       "      <td>0.001099</td>\n",
       "      <td>-2.893517</td>\n",
       "      <td>0.0</td>\n",
       "    </tr>\n",
       "    <tr>\n",
       "      <th>18</th>\n",
       "      <td>2021-12-08T13:45:01.800000Z</td>\n",
       "      <td>2021-12-08 13:45:01.800</td>\n",
       "      <td>03:28:20.024000</td>\n",
       "      <td>0.21701</td>\n",
       "      <td>1.302094</td>\n",
       "      <td>2.0</td>\n",
       "      <td>900</td>\n",
       "      <td>700.000000</td>\n",
       "      <td>538.787598</td>\n",
       "      <td>0.001099</td>\n",
       "      <td>-2.893517</td>\n",
       "      <td>0.0</td>\n",
       "    </tr>\n",
       "    <tr>\n",
       "      <th>19</th>\n",
       "      <td>2021-12-08T13:45:01.900000Z</td>\n",
       "      <td>2021-12-08 13:45:01.900</td>\n",
       "      <td>03:28:20.024000</td>\n",
       "      <td>0.21701</td>\n",
       "      <td>1.302094</td>\n",
       "      <td>2.0</td>\n",
       "      <td>900</td>\n",
       "      <td>700.000000</td>\n",
       "      <td>538.787598</td>\n",
       "      <td>0.001099</td>\n",
       "      <td>-2.893517</td>\n",
       "      <td>0.0</td>\n",
       "    </tr>\n",
       "    <tr>\n",
       "      <th>20</th>\n",
       "      <td>2021-12-08T13:45:02.000000Z</td>\n",
       "      <td>2021-12-08 13:45:02.000</td>\n",
       "      <td>03:28:20.024000</td>\n",
       "      <td>0.21701</td>\n",
       "      <td>1.302094</td>\n",
       "      <td>2.0</td>\n",
       "      <td>900</td>\n",
       "      <td>700.000000</td>\n",
       "      <td>538.787598</td>\n",
       "      <td>0.001099</td>\n",
       "      <td>-2.893517</td>\n",
       "      <td>0.0</td>\n",
       "    </tr>\n",
       "    <tr>\n",
       "      <th>21</th>\n",
       "      <td>2021-12-08T13:45:02.100000Z</td>\n",
       "      <td>2021-12-08 13:45:02.100</td>\n",
       "      <td>03:28:20.024000</td>\n",
       "      <td>0.21701</td>\n",
       "      <td>1.302094</td>\n",
       "      <td>2.0</td>\n",
       "      <td>900</td>\n",
       "      <td>700.000000</td>\n",
       "      <td>538.787598</td>\n",
       "      <td>0.001099</td>\n",
       "      <td>-2.893517</td>\n",
       "      <td>0.0</td>\n",
       "    </tr>\n",
       "    <tr>\n",
       "      <th>22</th>\n",
       "      <td>2021-12-08T13:45:02.200000Z</td>\n",
       "      <td>2021-12-08 13:45:02.200</td>\n",
       "      <td>03:28:20.024000</td>\n",
       "      <td>0.21701</td>\n",
       "      <td>1.302094</td>\n",
       "      <td>2.0</td>\n",
       "      <td>900</td>\n",
       "      <td>700.000000</td>\n",
       "      <td>538.787598</td>\n",
       "      <td>0.001099</td>\n",
       "      <td>-2.893517</td>\n",
       "      <td>0.0</td>\n",
       "    </tr>\n",
       "    <tr>\n",
       "      <th>23</th>\n",
       "      <td>2021-12-08T13:45:02.300000Z</td>\n",
       "      <td>2021-12-08 13:45:02.300</td>\n",
       "      <td>03:28:20.024000</td>\n",
       "      <td>0.21701</td>\n",
       "      <td>1.302094</td>\n",
       "      <td>2.0</td>\n",
       "      <td>900</td>\n",
       "      <td>700.000000</td>\n",
       "      <td>538.787598</td>\n",
       "      <td>0.001099</td>\n",
       "      <td>-2.893517</td>\n",
       "      <td>0.0</td>\n",
       "    </tr>\n",
       "    <tr>\n",
       "      <th>24</th>\n",
       "      <td>2021-12-08T13:45:02.400000Z</td>\n",
       "      <td>2021-12-08 13:45:02.400</td>\n",
       "      <td>03:28:20.024000</td>\n",
       "      <td>0.21701</td>\n",
       "      <td>1.302094</td>\n",
       "      <td>2.0</td>\n",
       "      <td>900</td>\n",
       "      <td>700.000000</td>\n",
       "      <td>538.787598</td>\n",
       "      <td>0.001099</td>\n",
       "      <td>-2.893517</td>\n",
       "      <td>0.0</td>\n",
       "    </tr>\n",
       "    <tr>\n",
       "      <th>25</th>\n",
       "      <td>2021-12-08T13:45:02.500000Z</td>\n",
       "      <td>2021-12-08 13:45:02.500</td>\n",
       "      <td>03:28:20.024000</td>\n",
       "      <td>0.21701</td>\n",
       "      <td>1.302094</td>\n",
       "      <td>2.0</td>\n",
       "      <td>900</td>\n",
       "      <td>700.000000</td>\n",
       "      <td>538.787598</td>\n",
       "      <td>0.001099</td>\n",
       "      <td>-2.893517</td>\n",
       "      <td>0.0</td>\n",
       "    </tr>\n",
       "    <tr>\n",
       "      <th>26</th>\n",
       "      <td>2021-12-08T13:45:02.600000Z</td>\n",
       "      <td>2021-12-08 13:45:02.600</td>\n",
       "      <td>03:28:20.024000</td>\n",
       "      <td>0.21701</td>\n",
       "      <td>1.302094</td>\n",
       "      <td>2.0</td>\n",
       "      <td>900</td>\n",
       "      <td>700.000000</td>\n",
       "      <td>538.787598</td>\n",
       "      <td>0.001099</td>\n",
       "      <td>-2.893517</td>\n",
       "      <td>0.0</td>\n",
       "    </tr>\n",
       "    <tr>\n",
       "      <th>27</th>\n",
       "      <td>2021-12-08T13:45:02.700000Z</td>\n",
       "      <td>2021-12-08 13:45:02.700</td>\n",
       "      <td>03:28:20.024000</td>\n",
       "      <td>0.21701</td>\n",
       "      <td>1.302094</td>\n",
       "      <td>2.0</td>\n",
       "      <td>900</td>\n",
       "      <td>700.000000</td>\n",
       "      <td>538.787598</td>\n",
       "      <td>0.001099</td>\n",
       "      <td>-2.893517</td>\n",
       "      <td>0.0</td>\n",
       "    </tr>\n",
       "    <tr>\n",
       "      <th>28</th>\n",
       "      <td>2021-12-08T13:45:02.800000Z</td>\n",
       "      <td>2021-12-08 13:45:02.800</td>\n",
       "      <td>03:28:20.024000</td>\n",
       "      <td>0.21701</td>\n",
       "      <td>1.302094</td>\n",
       "      <td>2.0</td>\n",
       "      <td>900</td>\n",
       "      <td>700.000000</td>\n",
       "      <td>538.787598</td>\n",
       "      <td>0.001099</td>\n",
       "      <td>-2.893517</td>\n",
       "      <td>0.0</td>\n",
       "    </tr>\n",
       "    <tr>\n",
       "      <th>29</th>\n",
       "      <td>2021-12-08T13:45:02.900000Z</td>\n",
       "      <td>2021-12-08 13:45:02.900</td>\n",
       "      <td>03:28:20.024000</td>\n",
       "      <td>0.21701</td>\n",
       "      <td>1.302094</td>\n",
       "      <td>2.0</td>\n",
       "      <td>900</td>\n",
       "      <td>700.000000</td>\n",
       "      <td>538.787598</td>\n",
       "      <td>0.001099</td>\n",
       "      <td>-2.893517</td>\n",
       "      <td>0.0</td>\n",
       "    </tr>\n",
       "    <tr>\n",
       "      <th>...</th>\n",
       "      <td>...</td>\n",
       "      <td>...</td>\n",
       "      <td>...</td>\n",
       "      <td>...</td>\n",
       "      <td>...</td>\n",
       "      <td>...</td>\n",
       "      <td>...</td>\n",
       "      <td>...</td>\n",
       "      <td>...</td>\n",
       "      <td>...</td>\n",
       "      <td>...</td>\n",
       "      <td>...</td>\n",
       "    </tr>\n",
       "    <tr>\n",
       "      <th>35970</th>\n",
       "      <td>2021-12-08T14:44:57.000000Z</td>\n",
       "      <td>2021-12-08 14:44:57.000</td>\n",
       "      <td>03:28:20.024000</td>\n",
       "      <td>0.21701</td>\n",
       "      <td>1.302094</td>\n",
       "      <td>900.0</td>\n",
       "      <td>700</td>\n",
       "      <td>538.787598</td>\n",
       "      <td>0.001099</td>\n",
       "      <td>-2.893517</td>\n",
       "      <td>0.000000</td>\n",
       "      <td>NaN</td>\n",
       "    </tr>\n",
       "    <tr>\n",
       "      <th>35971</th>\n",
       "      <td>2021-12-08T14:44:57.100000Z</td>\n",
       "      <td>2021-12-08 14:44:57.100</td>\n",
       "      <td>03:28:20.024000</td>\n",
       "      <td>0.21701</td>\n",
       "      <td>1.302094</td>\n",
       "      <td>900.0</td>\n",
       "      <td>700</td>\n",
       "      <td>538.787598</td>\n",
       "      <td>0.001099</td>\n",
       "      <td>-2.893517</td>\n",
       "      <td>0.000000</td>\n",
       "      <td>NaN</td>\n",
       "    </tr>\n",
       "    <tr>\n",
       "      <th>35972</th>\n",
       "      <td>2021-12-08T14:44:57.200000Z</td>\n",
       "      <td>2021-12-08 14:44:57.200</td>\n",
       "      <td>03:28:20.024000</td>\n",
       "      <td>0.21701</td>\n",
       "      <td>1.302094</td>\n",
       "      <td>900.0</td>\n",
       "      <td>700</td>\n",
       "      <td>538.787598</td>\n",
       "      <td>0.001099</td>\n",
       "      <td>-2.893517</td>\n",
       "      <td>0.000000</td>\n",
       "      <td>NaN</td>\n",
       "    </tr>\n",
       "    <tr>\n",
       "      <th>35973</th>\n",
       "      <td>2021-12-08T14:44:57.300000Z</td>\n",
       "      <td>2021-12-08 14:44:57.300</td>\n",
       "      <td>03:28:20.024000</td>\n",
       "      <td>0.21701</td>\n",
       "      <td>1.302094</td>\n",
       "      <td>900.0</td>\n",
       "      <td>700</td>\n",
       "      <td>538.787598</td>\n",
       "      <td>0.001099</td>\n",
       "      <td>-2.893517</td>\n",
       "      <td>0.000000</td>\n",
       "      <td>NaN</td>\n",
       "    </tr>\n",
       "    <tr>\n",
       "      <th>35974</th>\n",
       "      <td>2021-12-08T14:44:57.400000Z</td>\n",
       "      <td>2021-12-08 14:44:57.400</td>\n",
       "      <td>03:28:20.024000</td>\n",
       "      <td>0.21701</td>\n",
       "      <td>1.302094</td>\n",
       "      <td>900.0</td>\n",
       "      <td>700</td>\n",
       "      <td>538.787598</td>\n",
       "      <td>0.001099</td>\n",
       "      <td>-2.893517</td>\n",
       "      <td>0.000000</td>\n",
       "      <td>NaN</td>\n",
       "    </tr>\n",
       "    <tr>\n",
       "      <th>35975</th>\n",
       "      <td>2021-12-08T14:44:57.500000Z</td>\n",
       "      <td>2021-12-08 14:44:57.500</td>\n",
       "      <td>03:28:20.024000</td>\n",
       "      <td>0.21701</td>\n",
       "      <td>1.302094</td>\n",
       "      <td>900.0</td>\n",
       "      <td>700</td>\n",
       "      <td>538.787598</td>\n",
       "      <td>0.001099</td>\n",
       "      <td>-2.893517</td>\n",
       "      <td>0.000000</td>\n",
       "      <td>NaN</td>\n",
       "    </tr>\n",
       "    <tr>\n",
       "      <th>35976</th>\n",
       "      <td>2021-12-08T14:44:57.600000Z</td>\n",
       "      <td>2021-12-08 14:44:57.600</td>\n",
       "      <td>03:28:20.024000</td>\n",
       "      <td>0.21701</td>\n",
       "      <td>1.302094</td>\n",
       "      <td>900.0</td>\n",
       "      <td>700</td>\n",
       "      <td>538.787598</td>\n",
       "      <td>0.001099</td>\n",
       "      <td>-2.893517</td>\n",
       "      <td>0.000000</td>\n",
       "      <td>NaN</td>\n",
       "    </tr>\n",
       "    <tr>\n",
       "      <th>35977</th>\n",
       "      <td>2021-12-08T14:44:57.700000Z</td>\n",
       "      <td>2021-12-08 14:44:57.700</td>\n",
       "      <td>03:28:20.024000</td>\n",
       "      <td>0.21701</td>\n",
       "      <td>1.302094</td>\n",
       "      <td>900.0</td>\n",
       "      <td>700</td>\n",
       "      <td>538.787598</td>\n",
       "      <td>0.001099</td>\n",
       "      <td>-2.893517</td>\n",
       "      <td>0.000000</td>\n",
       "      <td>NaN</td>\n",
       "    </tr>\n",
       "    <tr>\n",
       "      <th>35978</th>\n",
       "      <td>2021-12-08T14:44:57.800000Z</td>\n",
       "      <td>2021-12-08 14:44:57.800</td>\n",
       "      <td>03:28:20.024000</td>\n",
       "      <td>0.21701</td>\n",
       "      <td>1.302094</td>\n",
       "      <td>900.0</td>\n",
       "      <td>700</td>\n",
       "      <td>538.787598</td>\n",
       "      <td>0.001099</td>\n",
       "      <td>-2.893517</td>\n",
       "      <td>0.000000</td>\n",
       "      <td>NaN</td>\n",
       "    </tr>\n",
       "    <tr>\n",
       "      <th>35979</th>\n",
       "      <td>2021-12-08T14:44:57.900000Z</td>\n",
       "      <td>2021-12-08 14:44:57.900</td>\n",
       "      <td>03:28:20.024000</td>\n",
       "      <td>0.21701</td>\n",
       "      <td>1.302094</td>\n",
       "      <td>900.0</td>\n",
       "      <td>700</td>\n",
       "      <td>538.787598</td>\n",
       "      <td>0.001099</td>\n",
       "      <td>-2.893517</td>\n",
       "      <td>0.000000</td>\n",
       "      <td>NaN</td>\n",
       "    </tr>\n",
       "    <tr>\n",
       "      <th>35980</th>\n",
       "      <td>2021-12-08T14:44:58.000000Z</td>\n",
       "      <td>2021-12-08 14:44:58.000</td>\n",
       "      <td>03:28:20.024000</td>\n",
       "      <td>0.21701</td>\n",
       "      <td>1.302094</td>\n",
       "      <td>900.0</td>\n",
       "      <td>700</td>\n",
       "      <td>538.787598</td>\n",
       "      <td>0.001099</td>\n",
       "      <td>-2.893517</td>\n",
       "      <td>0.000000</td>\n",
       "      <td>NaN</td>\n",
       "    </tr>\n",
       "    <tr>\n",
       "      <th>35981</th>\n",
       "      <td>2021-12-08T14:44:58.100000Z</td>\n",
       "      <td>2021-12-08 14:44:58.100</td>\n",
       "      <td>03:28:20.024000</td>\n",
       "      <td>0.21701</td>\n",
       "      <td>1.302094</td>\n",
       "      <td>900.0</td>\n",
       "      <td>700</td>\n",
       "      <td>538.787598</td>\n",
       "      <td>0.001099</td>\n",
       "      <td>-2.893517</td>\n",
       "      <td>0.000000</td>\n",
       "      <td>NaN</td>\n",
       "    </tr>\n",
       "    <tr>\n",
       "      <th>35982</th>\n",
       "      <td>2021-12-08T14:44:58.200000Z</td>\n",
       "      <td>2021-12-08 14:44:58.200</td>\n",
       "      <td>03:28:20.024000</td>\n",
       "      <td>0.21701</td>\n",
       "      <td>1.302094</td>\n",
       "      <td>900.0</td>\n",
       "      <td>700</td>\n",
       "      <td>538.787598</td>\n",
       "      <td>0.001099</td>\n",
       "      <td>-2.893517</td>\n",
       "      <td>0.000000</td>\n",
       "      <td>NaN</td>\n",
       "    </tr>\n",
       "    <tr>\n",
       "      <th>35983</th>\n",
       "      <td>2021-12-08T14:44:58.300000Z</td>\n",
       "      <td>2021-12-08 14:44:58.300</td>\n",
       "      <td>03:28:20.024000</td>\n",
       "      <td>0.21701</td>\n",
       "      <td>1.302094</td>\n",
       "      <td>900.0</td>\n",
       "      <td>700</td>\n",
       "      <td>538.787598</td>\n",
       "      <td>0.001099</td>\n",
       "      <td>-2.893517</td>\n",
       "      <td>0.000000</td>\n",
       "      <td>NaN</td>\n",
       "    </tr>\n",
       "    <tr>\n",
       "      <th>35984</th>\n",
       "      <td>2021-12-08T14:44:58.400000Z</td>\n",
       "      <td>2021-12-08 14:44:58.400</td>\n",
       "      <td>03:28:20.024000</td>\n",
       "      <td>0.21701</td>\n",
       "      <td>1.302094</td>\n",
       "      <td>900.0</td>\n",
       "      <td>700</td>\n",
       "      <td>538.787598</td>\n",
       "      <td>0.001099</td>\n",
       "      <td>-2.893517</td>\n",
       "      <td>0.000000</td>\n",
       "      <td>NaN</td>\n",
       "    </tr>\n",
       "    <tr>\n",
       "      <th>35985</th>\n",
       "      <td>2021-12-08T14:44:58.500000Z</td>\n",
       "      <td>2021-12-08 14:44:58.500</td>\n",
       "      <td>03:28:20.024000</td>\n",
       "      <td>0.21701</td>\n",
       "      <td>1.302094</td>\n",
       "      <td>900.0</td>\n",
       "      <td>700</td>\n",
       "      <td>538.787598</td>\n",
       "      <td>0.001099</td>\n",
       "      <td>-2.893517</td>\n",
       "      <td>0.000000</td>\n",
       "      <td>NaN</td>\n",
       "    </tr>\n",
       "    <tr>\n",
       "      <th>35986</th>\n",
       "      <td>2021-12-08T14:44:58.600000Z</td>\n",
       "      <td>2021-12-08 14:44:58.600</td>\n",
       "      <td>03:28:20.024000</td>\n",
       "      <td>0.21701</td>\n",
       "      <td>1.302094</td>\n",
       "      <td>900.0</td>\n",
       "      <td>700</td>\n",
       "      <td>538.787598</td>\n",
       "      <td>0.001099</td>\n",
       "      <td>-2.893517</td>\n",
       "      <td>0.000000</td>\n",
       "      <td>NaN</td>\n",
       "    </tr>\n",
       "    <tr>\n",
       "      <th>35987</th>\n",
       "      <td>2021-12-08T14:44:58.700000Z</td>\n",
       "      <td>2021-12-08 14:44:58.700</td>\n",
       "      <td>03:28:20.024000</td>\n",
       "      <td>0.21701</td>\n",
       "      <td>1.302094</td>\n",
       "      <td>900.0</td>\n",
       "      <td>700</td>\n",
       "      <td>538.787598</td>\n",
       "      <td>0.001099</td>\n",
       "      <td>-2.893517</td>\n",
       "      <td>0.000000</td>\n",
       "      <td>NaN</td>\n",
       "    </tr>\n",
       "    <tr>\n",
       "      <th>35988</th>\n",
       "      <td>2021-12-08T14:44:58.800000Z</td>\n",
       "      <td>2021-12-08 14:44:58.800</td>\n",
       "      <td>03:28:20.024000</td>\n",
       "      <td>0.21701</td>\n",
       "      <td>1.302094</td>\n",
       "      <td>900.0</td>\n",
       "      <td>700</td>\n",
       "      <td>538.787598</td>\n",
       "      <td>0.001099</td>\n",
       "      <td>-2.893517</td>\n",
       "      <td>0.000000</td>\n",
       "      <td>NaN</td>\n",
       "    </tr>\n",
       "    <tr>\n",
       "      <th>35989</th>\n",
       "      <td>2021-12-08T14:44:58.900000Z</td>\n",
       "      <td>2021-12-08 14:44:58.900</td>\n",
       "      <td>03:28:20.024000</td>\n",
       "      <td>0.21701</td>\n",
       "      <td>1.302094</td>\n",
       "      <td>900.0</td>\n",
       "      <td>700</td>\n",
       "      <td>538.787598</td>\n",
       "      <td>0.001099</td>\n",
       "      <td>-2.893517</td>\n",
       "      <td>0.000000</td>\n",
       "      <td>NaN</td>\n",
       "    </tr>\n",
       "    <tr>\n",
       "      <th>35990</th>\n",
       "      <td>2021-12-08T14:44:59.000000Z</td>\n",
       "      <td>2021-12-08 14:44:59.000</td>\n",
       "      <td>03:28:20.024000</td>\n",
       "      <td>0.21701</td>\n",
       "      <td>1.302094</td>\n",
       "      <td>900.0</td>\n",
       "      <td>700</td>\n",
       "      <td>538.787598</td>\n",
       "      <td>0.001099</td>\n",
       "      <td>-2.893517</td>\n",
       "      <td>0.000000</td>\n",
       "      <td>NaN</td>\n",
       "    </tr>\n",
       "    <tr>\n",
       "      <th>35991</th>\n",
       "      <td>2021-12-08T14:44:59.100000Z</td>\n",
       "      <td>2021-12-08 14:44:59.100</td>\n",
       "      <td>03:28:20.024000</td>\n",
       "      <td>0.21701</td>\n",
       "      <td>1.302094</td>\n",
       "      <td>900.0</td>\n",
       "      <td>700</td>\n",
       "      <td>538.787598</td>\n",
       "      <td>0.001099</td>\n",
       "      <td>-2.893517</td>\n",
       "      <td>0.000000</td>\n",
       "      <td>NaN</td>\n",
       "    </tr>\n",
       "    <tr>\n",
       "      <th>35992</th>\n",
       "      <td>2021-12-08T14:44:59.200000Z</td>\n",
       "      <td>2021-12-08 14:44:59.200</td>\n",
       "      <td>03:28:20.024000</td>\n",
       "      <td>0.21701</td>\n",
       "      <td>1.302094</td>\n",
       "      <td>900.0</td>\n",
       "      <td>700</td>\n",
       "      <td>538.787598</td>\n",
       "      <td>0.001099</td>\n",
       "      <td>-2.893517</td>\n",
       "      <td>0.000000</td>\n",
       "      <td>NaN</td>\n",
       "    </tr>\n",
       "    <tr>\n",
       "      <th>35993</th>\n",
       "      <td>2021-12-08T14:44:59.300000Z</td>\n",
       "      <td>2021-12-08 14:44:59.300</td>\n",
       "      <td>03:28:20.024000</td>\n",
       "      <td>0.21701</td>\n",
       "      <td>1.302094</td>\n",
       "      <td>900.0</td>\n",
       "      <td>700</td>\n",
       "      <td>538.787598</td>\n",
       "      <td>0.001099</td>\n",
       "      <td>-2.893517</td>\n",
       "      <td>0.000000</td>\n",
       "      <td>NaN</td>\n",
       "    </tr>\n",
       "    <tr>\n",
       "      <th>35994</th>\n",
       "      <td>2021-12-08T14:44:59.400000Z</td>\n",
       "      <td>2021-12-08 14:44:59.400</td>\n",
       "      <td>03:28:20.024000</td>\n",
       "      <td>0.21701</td>\n",
       "      <td>1.302094</td>\n",
       "      <td>900.0</td>\n",
       "      <td>700</td>\n",
       "      <td>538.787598</td>\n",
       "      <td>0.001099</td>\n",
       "      <td>-2.893517</td>\n",
       "      <td>0.000000</td>\n",
       "      <td>NaN</td>\n",
       "    </tr>\n",
       "    <tr>\n",
       "      <th>35995</th>\n",
       "      <td>2021-12-08T14:44:59.500000Z</td>\n",
       "      <td>2021-12-08 14:44:59.500</td>\n",
       "      <td>03:28:20.024000</td>\n",
       "      <td>0.21701</td>\n",
       "      <td>1.302094</td>\n",
       "      <td>900.0</td>\n",
       "      <td>700</td>\n",
       "      <td>538.787598</td>\n",
       "      <td>0.001099</td>\n",
       "      <td>-2.893517</td>\n",
       "      <td>0.000000</td>\n",
       "      <td>NaN</td>\n",
       "    </tr>\n",
       "    <tr>\n",
       "      <th>35996</th>\n",
       "      <td>2021-12-08T14:44:59.600000Z</td>\n",
       "      <td>2021-12-08 14:44:59.600</td>\n",
       "      <td>03:28:20.024000</td>\n",
       "      <td>0.21701</td>\n",
       "      <td>1.302094</td>\n",
       "      <td>900.0</td>\n",
       "      <td>700</td>\n",
       "      <td>538.787598</td>\n",
       "      <td>0.001099</td>\n",
       "      <td>-2.893517</td>\n",
       "      <td>0.000000</td>\n",
       "      <td>NaN</td>\n",
       "    </tr>\n",
       "    <tr>\n",
       "      <th>35997</th>\n",
       "      <td>2021-12-08T14:44:59.700000Z</td>\n",
       "      <td>2021-12-08 14:44:59.700</td>\n",
       "      <td>03:28:20.024000</td>\n",
       "      <td>0.21701</td>\n",
       "      <td>1.302094</td>\n",
       "      <td>900.0</td>\n",
       "      <td>700</td>\n",
       "      <td>538.787598</td>\n",
       "      <td>0.001099</td>\n",
       "      <td>-2.893517</td>\n",
       "      <td>0.000000</td>\n",
       "      <td>NaN</td>\n",
       "    </tr>\n",
       "    <tr>\n",
       "      <th>35998</th>\n",
       "      <td>2021-12-08T14:44:59.800000Z</td>\n",
       "      <td>2021-12-08 14:44:59.800</td>\n",
       "      <td>03:28:20.024000</td>\n",
       "      <td>0.21701</td>\n",
       "      <td>1.302094</td>\n",
       "      <td>900.0</td>\n",
       "      <td>700</td>\n",
       "      <td>538.787598</td>\n",
       "      <td>0.001099</td>\n",
       "      <td>-2.893517</td>\n",
       "      <td>0.000000</td>\n",
       "      <td>NaN</td>\n",
       "    </tr>\n",
       "    <tr>\n",
       "      <th>35999</th>\n",
       "      <td>2021-12-08T14:44:59.900000Z</td>\n",
       "      <td>2021-12-08 14:44:59.900</td>\n",
       "      <td>03:28:20.024000</td>\n",
       "      <td>0.21701</td>\n",
       "      <td>1.302094</td>\n",
       "      <td>900.0</td>\n",
       "      <td>700</td>\n",
       "      <td>538.787598</td>\n",
       "      <td>0.001099</td>\n",
       "      <td>-2.893517</td>\n",
       "      <td>0.000000</td>\n",
       "      <td>NaN</td>\n",
       "    </tr>\n",
       "  </tbody>\n",
       "</table>\n",
       "<p>36000 rows × 12 columns</p>\n",
       "</div>"
      ],
      "text/plain": [
       "                         timestamp              Unnamed: 1             Volt  \\\n",
       "0      2021-12-08T13:45:00.000000Z 2021-12-08 13:45:00.000  03:28:20.024000   \n",
       "1      2021-12-08T13:45:00.100000Z 2021-12-08 13:45:00.100  03:28:20.024000   \n",
       "2      2021-12-08T13:45:00.200000Z 2021-12-08 13:45:00.200  03:28:20.024000   \n",
       "3      2021-12-08T13:45:00.300000Z 2021-12-08 13:45:00.300  03:28:20.024000   \n",
       "4      2021-12-08T13:45:00.400000Z 2021-12-08 13:45:00.400  03:28:20.024000   \n",
       "5      2021-12-08T13:45:00.500000Z 2021-12-08 13:45:00.500  03:28:20.024000   \n",
       "6      2021-12-08T13:45:00.600000Z 2021-12-08 13:45:00.600  03:28:20.024000   \n",
       "7      2021-12-08T13:45:00.700000Z 2021-12-08 13:45:00.700  03:28:20.024000   \n",
       "8      2021-12-08T13:45:00.800000Z 2021-12-08 13:45:00.800  03:28:20.024000   \n",
       "9      2021-12-08T13:45:00.900000Z 2021-12-08 13:45:00.900  03:28:20.024000   \n",
       "10     2021-12-08T13:45:01.000000Z 2021-12-08 13:45:01.000  03:28:20.024000   \n",
       "11     2021-12-08T13:45:01.100000Z 2021-12-08 13:45:01.100  03:28:20.024000   \n",
       "12     2021-12-08T13:45:01.200000Z 2021-12-08 13:45:01.200  03:28:20.024000   \n",
       "13     2021-12-08T13:45:01.300000Z 2021-12-08 13:45:01.300  03:28:20.024000   \n",
       "14     2021-12-08T13:45:01.400000Z 2021-12-08 13:45:01.400  03:28:20.024000   \n",
       "15     2021-12-08T13:45:01.500000Z 2021-12-08 13:45:01.500  03:28:20.024000   \n",
       "16     2021-12-08T13:45:01.600000Z 2021-12-08 13:45:01.600  03:28:20.024000   \n",
       "17     2021-12-08T13:45:01.700000Z 2021-12-08 13:45:01.700  03:28:20.024000   \n",
       "18     2021-12-08T13:45:01.800000Z 2021-12-08 13:45:01.800  03:28:20.024000   \n",
       "19     2021-12-08T13:45:01.900000Z 2021-12-08 13:45:01.900  03:28:20.024000   \n",
       "20     2021-12-08T13:45:02.000000Z 2021-12-08 13:45:02.000  03:28:20.024000   \n",
       "21     2021-12-08T13:45:02.100000Z 2021-12-08 13:45:02.100  03:28:20.024000   \n",
       "22     2021-12-08T13:45:02.200000Z 2021-12-08 13:45:02.200  03:28:20.024000   \n",
       "23     2021-12-08T13:45:02.300000Z 2021-12-08 13:45:02.300  03:28:20.024000   \n",
       "24     2021-12-08T13:45:02.400000Z 2021-12-08 13:45:02.400  03:28:20.024000   \n",
       "25     2021-12-08T13:45:02.500000Z 2021-12-08 13:45:02.500  03:28:20.024000   \n",
       "26     2021-12-08T13:45:02.600000Z 2021-12-08 13:45:02.600  03:28:20.024000   \n",
       "27     2021-12-08T13:45:02.700000Z 2021-12-08 13:45:02.700  03:28:20.024000   \n",
       "28     2021-12-08T13:45:02.800000Z 2021-12-08 13:45:02.800  03:28:20.024000   \n",
       "29     2021-12-08T13:45:02.900000Z 2021-12-08 13:45:02.900  03:28:20.024000   \n",
       "...                            ...                     ...              ...   \n",
       "35970  2021-12-08T14:44:57.000000Z 2021-12-08 14:44:57.000  03:28:20.024000   \n",
       "35971  2021-12-08T14:44:57.100000Z 2021-12-08 14:44:57.100  03:28:20.024000   \n",
       "35972  2021-12-08T14:44:57.200000Z 2021-12-08 14:44:57.200  03:28:20.024000   \n",
       "35973  2021-12-08T14:44:57.300000Z 2021-12-08 14:44:57.300  03:28:20.024000   \n",
       "35974  2021-12-08T14:44:57.400000Z 2021-12-08 14:44:57.400  03:28:20.024000   \n",
       "35975  2021-12-08T14:44:57.500000Z 2021-12-08 14:44:57.500  03:28:20.024000   \n",
       "35976  2021-12-08T14:44:57.600000Z 2021-12-08 14:44:57.600  03:28:20.024000   \n",
       "35977  2021-12-08T14:44:57.700000Z 2021-12-08 14:44:57.700  03:28:20.024000   \n",
       "35978  2021-12-08T14:44:57.800000Z 2021-12-08 14:44:57.800  03:28:20.024000   \n",
       "35979  2021-12-08T14:44:57.900000Z 2021-12-08 14:44:57.900  03:28:20.024000   \n",
       "35980  2021-12-08T14:44:58.000000Z 2021-12-08 14:44:58.000  03:28:20.024000   \n",
       "35981  2021-12-08T14:44:58.100000Z 2021-12-08 14:44:58.100  03:28:20.024000   \n",
       "35982  2021-12-08T14:44:58.200000Z 2021-12-08 14:44:58.200  03:28:20.024000   \n",
       "35983  2021-12-08T14:44:58.300000Z 2021-12-08 14:44:58.300  03:28:20.024000   \n",
       "35984  2021-12-08T14:44:58.400000Z 2021-12-08 14:44:58.400  03:28:20.024000   \n",
       "35985  2021-12-08T14:44:58.500000Z 2021-12-08 14:44:58.500  03:28:20.024000   \n",
       "35986  2021-12-08T14:44:58.600000Z 2021-12-08 14:44:58.600  03:28:20.024000   \n",
       "35987  2021-12-08T14:44:58.700000Z 2021-12-08 14:44:58.700  03:28:20.024000   \n",
       "35988  2021-12-08T14:44:58.800000Z 2021-12-08 14:44:58.800  03:28:20.024000   \n",
       "35989  2021-12-08T14:44:58.900000Z 2021-12-08 14:44:58.900  03:28:20.024000   \n",
       "35990  2021-12-08T14:44:59.000000Z 2021-12-08 14:44:59.000  03:28:20.024000   \n",
       "35991  2021-12-08T14:44:59.100000Z 2021-12-08 14:44:59.100  03:28:20.024000   \n",
       "35992  2021-12-08T14:44:59.200000Z 2021-12-08 14:44:59.200  03:28:20.024000   \n",
       "35993  2021-12-08T14:44:59.300000Z 2021-12-08 14:44:59.300  03:28:20.024000   \n",
       "35994  2021-12-08T14:44:59.400000Z 2021-12-08 14:44:59.400  03:28:20.024000   \n",
       "35995  2021-12-08T14:44:59.500000Z 2021-12-08 14:44:59.500  03:28:20.024000   \n",
       "35996  2021-12-08T14:44:59.600000Z 2021-12-08 14:44:59.600  03:28:20.024000   \n",
       "35997  2021-12-08T14:44:59.700000Z 2021-12-08 14:44:59.700  03:28:20.024000   \n",
       "35998  2021-12-08T14:44:59.800000Z 2021-12-08 14:44:59.800  03:28:20.024000   \n",
       "35999  2021-12-08T14:44:59.900000Z 2021-12-08 14:44:59.900  03:28:20.024000   \n",
       "\n",
       "          Curr      Freq  defect  WeldTempMain  WeldTempPiro  \\\n",
       "0      0.21701  1.302094     2.0           900    700.000000   \n",
       "1      0.21701  1.302094     2.0           900    700.000000   \n",
       "2      0.21701  1.302094     2.0           900    700.000000   \n",
       "3      0.21701  1.302094     2.0           900    700.000000   \n",
       "4      0.21701  1.302094     2.0           900    700.000000   \n",
       "5      0.21701  1.302094     2.0           900    700.000000   \n",
       "6      0.21701  1.302094     2.0           900    700.000000   \n",
       "7      0.21701  1.302094     2.0           900    700.000000   \n",
       "8      0.21701  1.302094     2.0           900    700.000000   \n",
       "9      0.21701  1.302094     2.0           900    700.000000   \n",
       "10     0.21701  1.302094     2.0           900    700.000000   \n",
       "11     0.21701  1.302094     2.0           900    700.000000   \n",
       "12     0.21701  1.302094     2.0           900    700.000000   \n",
       "13     0.21701  1.302094     2.0           900    700.000000   \n",
       "14     0.21701  1.302094     2.0           900    700.000000   \n",
       "15     0.21701  1.302094     2.0           900    700.000000   \n",
       "16     0.21701  1.302094     2.0           900    700.000000   \n",
       "17     0.21701  1.302094     2.0           900    700.000000   \n",
       "18     0.21701  1.302094     2.0           900    700.000000   \n",
       "19     0.21701  1.302094     2.0           900    700.000000   \n",
       "20     0.21701  1.302094     2.0           900    700.000000   \n",
       "21     0.21701  1.302094     2.0           900    700.000000   \n",
       "22     0.21701  1.302094     2.0           900    700.000000   \n",
       "23     0.21701  1.302094     2.0           900    700.000000   \n",
       "24     0.21701  1.302094     2.0           900    700.000000   \n",
       "25     0.21701  1.302094     2.0           900    700.000000   \n",
       "26     0.21701  1.302094     2.0           900    700.000000   \n",
       "27     0.21701  1.302094     2.0           900    700.000000   \n",
       "28     0.21701  1.302094     2.0           900    700.000000   \n",
       "29     0.21701  1.302094     2.0           900    700.000000   \n",
       "...        ...       ...     ...           ...           ...   \n",
       "35970  0.21701  1.302094   900.0           700    538.787598   \n",
       "35971  0.21701  1.302094   900.0           700    538.787598   \n",
       "35972  0.21701  1.302094   900.0           700    538.787598   \n",
       "35973  0.21701  1.302094   900.0           700    538.787598   \n",
       "35974  0.21701  1.302094   900.0           700    538.787598   \n",
       "35975  0.21701  1.302094   900.0           700    538.787598   \n",
       "35976  0.21701  1.302094   900.0           700    538.787598   \n",
       "35977  0.21701  1.302094   900.0           700    538.787598   \n",
       "35978  0.21701  1.302094   900.0           700    538.787598   \n",
       "35979  0.21701  1.302094   900.0           700    538.787598   \n",
       "35980  0.21701  1.302094   900.0           700    538.787598   \n",
       "35981  0.21701  1.302094   900.0           700    538.787598   \n",
       "35982  0.21701  1.302094   900.0           700    538.787598   \n",
       "35983  0.21701  1.302094   900.0           700    538.787598   \n",
       "35984  0.21701  1.302094   900.0           700    538.787598   \n",
       "35985  0.21701  1.302094   900.0           700    538.787598   \n",
       "35986  0.21701  1.302094   900.0           700    538.787598   \n",
       "35987  0.21701  1.302094   900.0           700    538.787598   \n",
       "35988  0.21701  1.302094   900.0           700    538.787598   \n",
       "35989  0.21701  1.302094   900.0           700    538.787598   \n",
       "35990  0.21701  1.302094   900.0           700    538.787598   \n",
       "35991  0.21701  1.302094   900.0           700    538.787598   \n",
       "35992  0.21701  1.302094   900.0           700    538.787598   \n",
       "35993  0.21701  1.302094   900.0           700    538.787598   \n",
       "35994  0.21701  1.302094   900.0           700    538.787598   \n",
       "35995  0.21701  1.302094   900.0           700    538.787598   \n",
       "35996  0.21701  1.302094   900.0           700    538.787598   \n",
       "35997  0.21701  1.302094   900.0           700    538.787598   \n",
       "35998  0.21701  1.302094   900.0           700    538.787598   \n",
       "35999  0.21701  1.302094   900.0           700    538.787598   \n",
       "\n",
       "       WeldTempLandPiro     Power     Speed  act_speed  \n",
       "0            538.787598  0.001099 -2.893517        0.0  \n",
       "1            538.787598  0.001099 -2.893517        0.0  \n",
       "2            538.787598  0.001099 -2.893517        0.0  \n",
       "3            538.787598  0.001099 -2.893517        0.0  \n",
       "4            538.787598  0.001099 -2.893517        0.0  \n",
       "5            538.787598  0.001099 -2.893517        0.0  \n",
       "6            538.787598  0.001099 -2.893517        0.0  \n",
       "7            538.787598  0.001099 -2.893517        0.0  \n",
       "8            538.787598  0.001099 -2.893517        0.0  \n",
       "9            538.787598  0.001099 -2.893517        0.0  \n",
       "10           538.787598  0.001099 -2.893517        0.0  \n",
       "11           538.787598  0.001099 -2.893517        0.0  \n",
       "12           538.787598  0.001099 -2.893517        0.0  \n",
       "13           538.787598  0.001099 -2.893517        0.0  \n",
       "14           538.787598  0.001099 -2.893517        0.0  \n",
       "15           538.787598  0.001099 -2.893517        0.0  \n",
       "16           538.787598  0.001099 -2.893517        0.0  \n",
       "17           538.787598  0.001099 -2.893517        0.0  \n",
       "18           538.787598  0.001099 -2.893517        0.0  \n",
       "19           538.787598  0.001099 -2.893517        0.0  \n",
       "20           538.787598  0.001099 -2.893517        0.0  \n",
       "21           538.787598  0.001099 -2.893517        0.0  \n",
       "22           538.787598  0.001099 -2.893517        0.0  \n",
       "23           538.787598  0.001099 -2.893517        0.0  \n",
       "24           538.787598  0.001099 -2.893517        0.0  \n",
       "25           538.787598  0.001099 -2.893517        0.0  \n",
       "26           538.787598  0.001099 -2.893517        0.0  \n",
       "27           538.787598  0.001099 -2.893517        0.0  \n",
       "28           538.787598  0.001099 -2.893517        0.0  \n",
       "29           538.787598  0.001099 -2.893517        0.0  \n",
       "...                 ...       ...       ...        ...  \n",
       "35970          0.001099 -2.893517  0.000000        NaN  \n",
       "35971          0.001099 -2.893517  0.000000        NaN  \n",
       "35972          0.001099 -2.893517  0.000000        NaN  \n",
       "35973          0.001099 -2.893517  0.000000        NaN  \n",
       "35974          0.001099 -2.893517  0.000000        NaN  \n",
       "35975          0.001099 -2.893517  0.000000        NaN  \n",
       "35976          0.001099 -2.893517  0.000000        NaN  \n",
       "35977          0.001099 -2.893517  0.000000        NaN  \n",
       "35978          0.001099 -2.893517  0.000000        NaN  \n",
       "35979          0.001099 -2.893517  0.000000        NaN  \n",
       "35980          0.001099 -2.893517  0.000000        NaN  \n",
       "35981          0.001099 -2.893517  0.000000        NaN  \n",
       "35982          0.001099 -2.893517  0.000000        NaN  \n",
       "35983          0.001099 -2.893517  0.000000        NaN  \n",
       "35984          0.001099 -2.893517  0.000000        NaN  \n",
       "35985          0.001099 -2.893517  0.000000        NaN  \n",
       "35986          0.001099 -2.893517  0.000000        NaN  \n",
       "35987          0.001099 -2.893517  0.000000        NaN  \n",
       "35988          0.001099 -2.893517  0.000000        NaN  \n",
       "35989          0.001099 -2.893517  0.000000        NaN  \n",
       "35990          0.001099 -2.893517  0.000000        NaN  \n",
       "35991          0.001099 -2.893517  0.000000        NaN  \n",
       "35992          0.001099 -2.893517  0.000000        NaN  \n",
       "35993          0.001099 -2.893517  0.000000        NaN  \n",
       "35994          0.001099 -2.893517  0.000000        NaN  \n",
       "35995          0.001099 -2.893517  0.000000        NaN  \n",
       "35996          0.001099 -2.893517  0.000000        NaN  \n",
       "35997          0.001099 -2.893517  0.000000        NaN  \n",
       "35998          0.001099 -2.893517  0.000000        NaN  \n",
       "35999          0.001099 -2.893517  0.000000        NaN  \n",
       "\n",
       "[36000 rows x 12 columns]"
      ]
     },
     "execution_count": 4,
     "metadata": {},
     "output_type": "execute_result"
    }
   ],
   "source": [
    "df"
   ]
  },
  {
   "cell_type": "code",
   "execution_count": 5,
   "id": "hybrid-sample",
   "metadata": {},
   "outputs": [
    {
     "data": {
      "text/html": [
       "<div>\n",
       "<style scoped>\n",
       "    .dataframe tbody tr th:only-of-type {\n",
       "        vertical-align: middle;\n",
       "    }\n",
       "\n",
       "    .dataframe tbody tr th {\n",
       "        vertical-align: top;\n",
       "    }\n",
       "\n",
       "    .dataframe thead th {\n",
       "        text-align: right;\n",
       "    }\n",
       "</style>\n",
       "<table border=\"1\" class=\"dataframe\">\n",
       "  <thead>\n",
       "    <tr style=\"text-align: right;\">\n",
       "      <th></th>\n",
       "      <th>count</th>\n",
       "      <th>mean</th>\n",
       "      <th>std</th>\n",
       "      <th>min</th>\n",
       "      <th>25%</th>\n",
       "      <th>50%</th>\n",
       "      <th>75%</th>\n",
       "      <th>max</th>\n",
       "    </tr>\n",
       "  </thead>\n",
       "  <tbody>\n",
       "    <tr>\n",
       "      <th>Curr</th>\n",
       "      <td>36000.0</td>\n",
       "      <td>9.960309</td>\n",
       "      <td>20.538096</td>\n",
       "      <td>0.168788</td>\n",
       "      <td>0.217010</td>\n",
       "      <td>0.217010</td>\n",
       "      <td>0.217010</td>\n",
       "      <td>100.564240</td>\n",
       "    </tr>\n",
       "    <tr>\n",
       "      <th>Freq</th>\n",
       "      <td>36000.0</td>\n",
       "      <td>55.959062</td>\n",
       "      <td>114.913796</td>\n",
       "      <td>0.434021</td>\n",
       "      <td>1.302094</td>\n",
       "      <td>1.302094</td>\n",
       "      <td>1.302094</td>\n",
       "      <td>305.685754</td>\n",
       "    </tr>\n",
       "    <tr>\n",
       "      <th>defect</th>\n",
       "      <td>36000.0</td>\n",
       "      <td>104.935238</td>\n",
       "      <td>285.158742</td>\n",
       "      <td>0.000000</td>\n",
       "      <td>2.010038</td>\n",
       "      <td>2.632101</td>\n",
       "      <td>3.433182</td>\n",
       "      <td>900.000000</td>\n",
       "    </tr>\n",
       "    <tr>\n",
       "      <th>WeldTempMain</th>\n",
       "      <td>36000.0</td>\n",
       "      <td>877.205556</td>\n",
       "      <td>63.556388</td>\n",
       "      <td>700.000000</td>\n",
       "      <td>900.000000</td>\n",
       "      <td>900.000000</td>\n",
       "      <td>900.000000</td>\n",
       "      <td>900.000000</td>\n",
       "    </tr>\n",
       "    <tr>\n",
       "      <th>WeldTempPiro</th>\n",
       "      <td>36000.0</td>\n",
       "      <td>690.943964</td>\n",
       "      <td>87.172853</td>\n",
       "      <td>538.787598</td>\n",
       "      <td>700.000000</td>\n",
       "      <td>700.000000</td>\n",
       "      <td>700.000000</td>\n",
       "      <td>1406.843262</td>\n",
       "    </tr>\n",
       "    <tr>\n",
       "      <th>WeldTempLandPiro</th>\n",
       "      <td>36000.0</td>\n",
       "      <td>617.051572</td>\n",
       "      <td>363.896864</td>\n",
       "      <td>0.000952</td>\n",
       "      <td>538.787598</td>\n",
       "      <td>538.787598</td>\n",
       "      <td>538.787598</td>\n",
       "      <td>1438.189616</td>\n",
       "    </tr>\n",
       "    <tr>\n",
       "      <th>Power</th>\n",
       "      <td>36000.0</td>\n",
       "      <td>17.677543</td>\n",
       "      <td>39.110554</td>\n",
       "      <td>-2.951385</td>\n",
       "      <td>0.001099</td>\n",
       "      <td>0.001099</td>\n",
       "      <td>0.001099</td>\n",
       "      <td>353.400653</td>\n",
       "    </tr>\n",
       "    <tr>\n",
       "      <th>Speed</th>\n",
       "      <td>36000.0</td>\n",
       "      <td>3.550730</td>\n",
       "      <td>13.051606</td>\n",
       "      <td>-2.974536</td>\n",
       "      <td>-2.893517</td>\n",
       "      <td>-2.893517</td>\n",
       "      <td>0.000000</td>\n",
       "      <td>55.089611</td>\n",
       "    </tr>\n",
       "    <tr>\n",
       "      <th>act_speed</th>\n",
       "      <td>31897.0</td>\n",
       "      <td>11.122545</td>\n",
       "      <td>21.578413</td>\n",
       "      <td>0.000000</td>\n",
       "      <td>0.000000</td>\n",
       "      <td>0.000000</td>\n",
       "      <td>0.000000</td>\n",
       "      <td>55.495678</td>\n",
       "    </tr>\n",
       "  </tbody>\n",
       "</table>\n",
       "</div>"
      ],
      "text/plain": [
       "                    count        mean         std         min         25%  \\\n",
       "Curr              36000.0    9.960309   20.538096    0.168788    0.217010   \n",
       "Freq              36000.0   55.959062  114.913796    0.434021    1.302094   \n",
       "defect            36000.0  104.935238  285.158742    0.000000    2.010038   \n",
       "WeldTempMain      36000.0  877.205556   63.556388  700.000000  900.000000   \n",
       "WeldTempPiro      36000.0  690.943964   87.172853  538.787598  700.000000   \n",
       "WeldTempLandPiro  36000.0  617.051572  363.896864    0.000952  538.787598   \n",
       "Power             36000.0   17.677543   39.110554   -2.951385    0.001099   \n",
       "Speed             36000.0    3.550730   13.051606   -2.974536   -2.893517   \n",
       "act_speed         31897.0   11.122545   21.578413    0.000000    0.000000   \n",
       "\n",
       "                         50%         75%          max  \n",
       "Curr                0.217010    0.217010   100.564240  \n",
       "Freq                1.302094    1.302094   305.685754  \n",
       "defect              2.632101    3.433182   900.000000  \n",
       "WeldTempMain      900.000000  900.000000   900.000000  \n",
       "WeldTempPiro      700.000000  700.000000  1406.843262  \n",
       "WeldTempLandPiro  538.787598  538.787598  1438.189616  \n",
       "Power               0.001099    0.001099   353.400653  \n",
       "Speed              -2.893517    0.000000    55.089611  \n",
       "act_speed           0.000000    0.000000    55.495678  "
      ]
     },
     "execution_count": 5,
     "metadata": {},
     "output_type": "execute_result"
    }
   ],
   "source": [
    "df.describe().T"
   ]
  },
  {
   "cell_type": "code",
   "execution_count": 6,
   "id": "specialized-hypothesis",
   "metadata": {},
   "outputs": [
    {
     "data": {
      "text/plain": [
       "(36000, 12)"
      ]
     },
     "execution_count": 6,
     "metadata": {},
     "output_type": "execute_result"
    }
   ],
   "source": [
    "df.shape"
   ]
  },
  {
   "cell_type": "markdown",
   "id": "relevant-physics",
   "metadata": {},
   "source": [
    "### Empty items"
   ]
  },
  {
   "cell_type": "code",
   "execution_count": 7,
   "id": "bulgarian-table",
   "metadata": {},
   "outputs": [
    {
     "name": "stdout",
     "output_type": "stream",
     "text": [
      "timestamp              0\n",
      "Unnamed: 1             0\n",
      "Volt                   0\n",
      "Curr                   0\n",
      "Freq                   0\n",
      "defect                 0\n",
      "WeldTempMain           0\n",
      "WeldTempPiro           0\n",
      "WeldTempLandPiro       0\n",
      "Power                  0\n",
      "Speed                  0\n",
      "act_speed           4103\n",
      "dtype: int64\n"
     ]
    }
   ],
   "source": [
    "print(df.isna().sum())"
   ]
  },
  {
   "cell_type": "code",
   "execution_count": 8,
   "id": "collect-circulation",
   "metadata": {},
   "outputs": [],
   "source": [
    "df = df.fillna(0)"
   ]
  },
  {
   "cell_type": "markdown",
   "id": "professional-assumption",
   "metadata": {},
   "source": [
    "### Correlation"
   ]
  },
  {
   "cell_type": "code",
   "execution_count": 9,
   "id": "convertible-paste",
   "metadata": {},
   "outputs": [
    {
     "data": {
      "text/html": [
       "<style  type=\"text/css\" >\n",
       "    #T_a4f0010c_edae_11ec_91bb_bc542f6058aarow0_col0 {\n",
       "            background-color:  #b40426;\n",
       "            color:  #f1f1f1;\n",
       "        }    #T_a4f0010c_edae_11ec_91bb_bc542f6058aarow0_col1 {\n",
       "            background-color:  #b40426;\n",
       "            color:  #f1f1f1;\n",
       "        }    #T_a4f0010c_edae_11ec_91bb_bc542f6058aarow0_col2 {\n",
       "            background-color:  #d2dbe8;\n",
       "            color:  #000000;\n",
       "        }    #T_a4f0010c_edae_11ec_91bb_bc542f6058aarow0_col3 {\n",
       "            background-color:  #e8d6cc;\n",
       "            color:  #000000;\n",
       "        }    #T_a4f0010c_edae_11ec_91bb_bc542f6058aarow0_col4 {\n",
       "            background-color:  #c6d6f1;\n",
       "            color:  #000000;\n",
       "        }    #T_a4f0010c_edae_11ec_91bb_bc542f6058aarow0_col5 {\n",
       "            background-color:  #de614d;\n",
       "            color:  #000000;\n",
       "        }    #T_a4f0010c_edae_11ec_91bb_bc542f6058aarow0_col6 {\n",
       "            background-color:  #ba162b;\n",
       "            color:  #f1f1f1;\n",
       "        }    #T_a4f0010c_edae_11ec_91bb_bc542f6058aarow0_col7 {\n",
       "            background-color:  #c53334;\n",
       "            color:  #f1f1f1;\n",
       "        }    #T_a4f0010c_edae_11ec_91bb_bc542f6058aarow0_col8 {\n",
       "            background-color:  #e36b54;\n",
       "            color:  #000000;\n",
       "        }    #T_a4f0010c_edae_11ec_91bb_bc542f6058aarow1_col0 {\n",
       "            background-color:  #b40426;\n",
       "            color:  #f1f1f1;\n",
       "        }    #T_a4f0010c_edae_11ec_91bb_bc542f6058aarow1_col1 {\n",
       "            background-color:  #b40426;\n",
       "            color:  #f1f1f1;\n",
       "        }    #T_a4f0010c_edae_11ec_91bb_bc542f6058aarow1_col2 {\n",
       "            background-color:  #d2dbe8;\n",
       "            color:  #000000;\n",
       "        }    #T_a4f0010c_edae_11ec_91bb_bc542f6058aarow1_col3 {\n",
       "            background-color:  #e8d6cc;\n",
       "            color:  #000000;\n",
       "        }    #T_a4f0010c_edae_11ec_91bb_bc542f6058aarow1_col4 {\n",
       "            background-color:  #c6d6f1;\n",
       "            color:  #000000;\n",
       "        }    #T_a4f0010c_edae_11ec_91bb_bc542f6058aarow1_col5 {\n",
       "            background-color:  #de614d;\n",
       "            color:  #000000;\n",
       "        }    #T_a4f0010c_edae_11ec_91bb_bc542f6058aarow1_col6 {\n",
       "            background-color:  #bd1f2d;\n",
       "            color:  #f1f1f1;\n",
       "        }    #T_a4f0010c_edae_11ec_91bb_bc542f6058aarow1_col7 {\n",
       "            background-color:  #c43032;\n",
       "            color:  #f1f1f1;\n",
       "        }    #T_a4f0010c_edae_11ec_91bb_bc542f6058aarow1_col8 {\n",
       "            background-color:  #e36b54;\n",
       "            color:  #000000;\n",
       "        }    #T_a4f0010c_edae_11ec_91bb_bc542f6058aarow2_col0 {\n",
       "            background-color:  #3b4cc0;\n",
       "            color:  #f1f1f1;\n",
       "        }    #T_a4f0010c_edae_11ec_91bb_bc542f6058aarow2_col1 {\n",
       "            background-color:  #3b4cc0;\n",
       "            color:  #f1f1f1;\n",
       "        }    #T_a4f0010c_edae_11ec_91bb_bc542f6058aarow2_col2 {\n",
       "            background-color:  #b40426;\n",
       "            color:  #f1f1f1;\n",
       "        }    #T_a4f0010c_edae_11ec_91bb_bc542f6058aarow2_col3 {\n",
       "            background-color:  #3b4cc0;\n",
       "            color:  #f1f1f1;\n",
       "        }    #T_a4f0010c_edae_11ec_91bb_bc542f6058aarow2_col4 {\n",
       "            background-color:  #3b4cc0;\n",
       "            color:  #f1f1f1;\n",
       "        }    #T_a4f0010c_edae_11ec_91bb_bc542f6058aarow2_col5 {\n",
       "            background-color:  #3b4cc0;\n",
       "            color:  #f1f1f1;\n",
       "        }    #T_a4f0010c_edae_11ec_91bb_bc542f6058aarow2_col6 {\n",
       "            background-color:  #3b4cc0;\n",
       "            color:  #f1f1f1;\n",
       "        }    #T_a4f0010c_edae_11ec_91bb_bc542f6058aarow2_col7 {\n",
       "            background-color:  #536edd;\n",
       "            color:  #000000;\n",
       "        }    #T_a4f0010c_edae_11ec_91bb_bc542f6058aarow2_col8 {\n",
       "            background-color:  #3b4cc0;\n",
       "            color:  #f1f1f1;\n",
       "        }    #T_a4f0010c_edae_11ec_91bb_bc542f6058aarow3_col0 {\n",
       "            background-color:  #6c8ff1;\n",
       "            color:  #000000;\n",
       "        }    #T_a4f0010c_edae_11ec_91bb_bc542f6058aarow3_col1 {\n",
       "            background-color:  #6c8ff1;\n",
       "            color:  #000000;\n",
       "        }    #T_a4f0010c_edae_11ec_91bb_bc542f6058aarow3_col2 {\n",
       "            background-color:  #3b4cc0;\n",
       "            color:  #f1f1f1;\n",
       "        }    #T_a4f0010c_edae_11ec_91bb_bc542f6058aarow3_col3 {\n",
       "            background-color:  #b40426;\n",
       "            color:  #f1f1f1;\n",
       "        }    #T_a4f0010c_edae_11ec_91bb_bc542f6058aarow3_col4 {\n",
       "            background-color:  #cedaeb;\n",
       "            color:  #000000;\n",
       "        }    #T_a4f0010c_edae_11ec_91bb_bc542f6058aarow3_col5 {\n",
       "            background-color:  #f49a7b;\n",
       "            color:  #000000;\n",
       "        }    #T_a4f0010c_edae_11ec_91bb_bc542f6058aarow3_col6 {\n",
       "            background-color:  #97b8ff;\n",
       "            color:  #000000;\n",
       "        }    #T_a4f0010c_edae_11ec_91bb_bc542f6058aarow3_col7 {\n",
       "            background-color:  #3b4cc0;\n",
       "            color:  #f1f1f1;\n",
       "        }    #T_a4f0010c_edae_11ec_91bb_bc542f6058aarow3_col8 {\n",
       "            background-color:  #9bbcff;\n",
       "            color:  #000000;\n",
       "        }    #T_a4f0010c_edae_11ec_91bb_bc542f6058aarow4_col0 {\n",
       "            background-color:  #a2c1ff;\n",
       "            color:  #000000;\n",
       "        }    #T_a4f0010c_edae_11ec_91bb_bc542f6058aarow4_col1 {\n",
       "            background-color:  #a2c1ff;\n",
       "            color:  #000000;\n",
       "        }    #T_a4f0010c_edae_11ec_91bb_bc542f6058aarow4_col2 {\n",
       "            background-color:  #b1cbfc;\n",
       "            color:  #000000;\n",
       "        }    #T_a4f0010c_edae_11ec_91bb_bc542f6058aarow4_col3 {\n",
       "            background-color:  #f6bea4;\n",
       "            color:  #000000;\n",
       "        }    #T_a4f0010c_edae_11ec_91bb_bc542f6058aarow4_col4 {\n",
       "            background-color:  #b40426;\n",
       "            color:  #f1f1f1;\n",
       "        }    #T_a4f0010c_edae_11ec_91bb_bc542f6058aarow4_col5 {\n",
       "            background-color:  #dcdddd;\n",
       "            color:  #000000;\n",
       "        }    #T_a4f0010c_edae_11ec_91bb_bc542f6058aarow4_col6 {\n",
       "            background-color:  #89acfd;\n",
       "            color:  #000000;\n",
       "        }    #T_a4f0010c_edae_11ec_91bb_bc542f6058aarow4_col7 {\n",
       "            background-color:  #abc8fd;\n",
       "            color:  #000000;\n",
       "        }    #T_a4f0010c_edae_11ec_91bb_bc542f6058aarow4_col8 {\n",
       "            background-color:  #779af7;\n",
       "            color:  #000000;\n",
       "        }    #T_a4f0010c_edae_11ec_91bb_bc542f6058aarow5_col0 {\n",
       "            background-color:  #eb7d62;\n",
       "            color:  #000000;\n",
       "        }    #T_a4f0010c_edae_11ec_91bb_bc542f6058aarow5_col1 {\n",
       "            background-color:  #eb7d62;\n",
       "            color:  #000000;\n",
       "        }    #T_a4f0010c_edae_11ec_91bb_bc542f6058aarow5_col2 {\n",
       "            background-color:  #7b9ff9;\n",
       "            color:  #000000;\n",
       "        }    #T_a4f0010c_edae_11ec_91bb_bc542f6058aarow5_col3 {\n",
       "            background-color:  #ee8468;\n",
       "            color:  #000000;\n",
       "        }    #T_a4f0010c_edae_11ec_91bb_bc542f6058aarow5_col4 {\n",
       "            background-color:  #b9d0f9;\n",
       "            color:  #000000;\n",
       "        }    #T_a4f0010c_edae_11ec_91bb_bc542f6058aarow5_col5 {\n",
       "            background-color:  #b40426;\n",
       "            color:  #f1f1f1;\n",
       "        }    #T_a4f0010c_edae_11ec_91bb_bc542f6058aarow5_col6 {\n",
       "            background-color:  #df634e;\n",
       "            color:  #000000;\n",
       "        }    #T_a4f0010c_edae_11ec_91bb_bc542f6058aarow5_col7 {\n",
       "            background-color:  #f7ad90;\n",
       "            color:  #000000;\n",
       "        }    #T_a4f0010c_edae_11ec_91bb_bc542f6058aarow5_col8 {\n",
       "            background-color:  #e7745b;\n",
       "            color:  #000000;\n",
       "        }    #T_a4f0010c_edae_11ec_91bb_bc542f6058aarow6_col0 {\n",
       "            background-color:  #bb1b2c;\n",
       "            color:  #f1f1f1;\n",
       "        }    #T_a4f0010c_edae_11ec_91bb_bc542f6058aarow6_col1 {\n",
       "            background-color:  #bd1f2d;\n",
       "            color:  #f1f1f1;\n",
       "        }    #T_a4f0010c_edae_11ec_91bb_bc542f6058aarow6_col2 {\n",
       "            background-color:  #c6d6f1;\n",
       "            color:  #000000;\n",
       "        }    #T_a4f0010c_edae_11ec_91bb_bc542f6058aarow6_col3 {\n",
       "            background-color:  #efcfbf;\n",
       "            color:  #000000;\n",
       "        }    #T_a4f0010c_edae_11ec_91bb_bc542f6058aarow6_col4 {\n",
       "            background-color:  #a5c3fe;\n",
       "            color:  #000000;\n",
       "        }    #T_a4f0010c_edae_11ec_91bb_bc542f6058aarow6_col5 {\n",
       "            background-color:  #d55042;\n",
       "            color:  #000000;\n",
       "        }    #T_a4f0010c_edae_11ec_91bb_bc542f6058aarow6_col6 {\n",
       "            background-color:  #b40426;\n",
       "            color:  #f1f1f1;\n",
       "        }    #T_a4f0010c_edae_11ec_91bb_bc542f6058aarow6_col7 {\n",
       "            background-color:  #d65244;\n",
       "            color:  #000000;\n",
       "        }    #T_a4f0010c_edae_11ec_91bb_bc542f6058aarow6_col8 {\n",
       "            background-color:  #df634e;\n",
       "            color:  #000000;\n",
       "        }    #T_a4f0010c_edae_11ec_91bb_bc542f6058aarow7_col0 {\n",
       "            background-color:  #c43032;\n",
       "            color:  #f1f1f1;\n",
       "        }    #T_a4f0010c_edae_11ec_91bb_bc542f6058aarow7_col1 {\n",
       "            background-color:  #c32e31;\n",
       "            color:  #f1f1f1;\n",
       "        }    #T_a4f0010c_edae_11ec_91bb_bc542f6058aarow7_col2 {\n",
       "            background-color:  #e2dad5;\n",
       "            color:  #000000;\n",
       "        }    #T_a4f0010c_edae_11ec_91bb_bc542f6058aarow7_col3 {\n",
       "            background-color:  #d7dce3;\n",
       "            color:  #000000;\n",
       "        }    #T_a4f0010c_edae_11ec_91bb_bc542f6058aarow7_col4 {\n",
       "            background-color:  #d4dbe6;\n",
       "            color:  #000000;\n",
       "        }    #T_a4f0010c_edae_11ec_91bb_bc542f6058aarow7_col5 {\n",
       "            background-color:  #ed8366;\n",
       "            color:  #000000;\n",
       "        }    #T_a4f0010c_edae_11ec_91bb_bc542f6058aarow7_col6 {\n",
       "            background-color:  #d24b40;\n",
       "            color:  #f1f1f1;\n",
       "        }    #T_a4f0010c_edae_11ec_91bb_bc542f6058aarow7_col7 {\n",
       "            background-color:  #b40426;\n",
       "            color:  #f1f1f1;\n",
       "        }    #T_a4f0010c_edae_11ec_91bb_bc542f6058aarow7_col8 {\n",
       "            background-color:  #ee8468;\n",
       "            color:  #000000;\n",
       "        }    #T_a4f0010c_edae_11ec_91bb_bc542f6058aarow8_col0 {\n",
       "            background-color:  #e57058;\n",
       "            color:  #000000;\n",
       "        }    #T_a4f0010c_edae_11ec_91bb_bc542f6058aarow8_col1 {\n",
       "            background-color:  #e57058;\n",
       "            color:  #000000;\n",
       "        }    #T_a4f0010c_edae_11ec_91bb_bc542f6058aarow8_col2 {\n",
       "            background-color:  #c5d6f2;\n",
       "            color:  #000000;\n",
       "        }    #T_a4f0010c_edae_11ec_91bb_bc542f6058aarow8_col3 {\n",
       "            background-color:  #efcebd;\n",
       "            color:  #000000;\n",
       "        }    #T_a4f0010c_edae_11ec_91bb_bc542f6058aarow8_col4 {\n",
       "            background-color:  #92b4fe;\n",
       "            color:  #000000;\n",
       "        }    #T_a4f0010c_edae_11ec_91bb_bc542f6058aarow8_col5 {\n",
       "            background-color:  #dd5f4b;\n",
       "            color:  #000000;\n",
       "        }    #T_a4f0010c_edae_11ec_91bb_bc542f6058aarow8_col6 {\n",
       "            background-color:  #df634e;\n",
       "            color:  #000000;\n",
       "        }    #T_a4f0010c_edae_11ec_91bb_bc542f6058aarow8_col7 {\n",
       "            background-color:  #f18f71;\n",
       "            color:  #000000;\n",
       "        }    #T_a4f0010c_edae_11ec_91bb_bc542f6058aarow8_col8 {\n",
       "            background-color:  #b40426;\n",
       "            color:  #f1f1f1;\n",
       "        }</style><table id=\"T_a4f0010c_edae_11ec_91bb_bc542f6058aa\" ><thead>    <tr>        <th class=\"blank level0\" ></th>        <th class=\"col_heading level0 col0\" >Curr</th>        <th class=\"col_heading level0 col1\" >Freq</th>        <th class=\"col_heading level0 col2\" >defect</th>        <th class=\"col_heading level0 col3\" >WeldTempMain</th>        <th class=\"col_heading level0 col4\" >WeldTempPiro</th>        <th class=\"col_heading level0 col5\" >WeldTempLandPiro</th>        <th class=\"col_heading level0 col6\" >Power</th>        <th class=\"col_heading level0 col7\" >Speed</th>        <th class=\"col_heading level0 col8\" >act_speed</th>    </tr></thead><tbody>\n",
       "                <tr>\n",
       "                        <th id=\"T_a4f0010c_edae_11ec_91bb_bc542f6058aalevel0_row0\" class=\"row_heading level0 row0\" >Curr</th>\n",
       "                        <td id=\"T_a4f0010c_edae_11ec_91bb_bc542f6058aarow0_col0\" class=\"data row0 col0\" >1</td>\n",
       "                        <td id=\"T_a4f0010c_edae_11ec_91bb_bc542f6058aarow0_col1\" class=\"data row0 col1\" >0.997912</td>\n",
       "                        <td id=\"T_a4f0010c_edae_11ec_91bb_bc542f6058aarow0_col2\" class=\"data row0 col2\" >-0.085555</td>\n",
       "                        <td id=\"T_a4f0010c_edae_11ec_91bb_bc542f6058aarow0_col3\" class=\"data row0 col3\" >0.0861674</td>\n",
       "                        <td id=\"T_a4f0010c_edae_11ec_91bb_bc542f6058aarow0_col4\" class=\"data row0 col4\" >0.252679</td>\n",
       "                        <td id=\"T_a4f0010c_edae_11ec_91bb_bc542f6058aarow0_col5\" class=\"data row0 col5\" >0.798839</td>\n",
       "                        <td id=\"T_a4f0010c_edae_11ec_91bb_bc542f6058aarow0_col6\" class=\"data row0 col6\" >0.97814</td>\n",
       "                        <td id=\"T_a4f0010c_edae_11ec_91bb_bc542f6058aarow0_col7\" class=\"data row0 col7\" >0.95009</td>\n",
       "                        <td id=\"T_a4f0010c_edae_11ec_91bb_bc542f6058aarow0_col8\" class=\"data row0 col8\" >0.826948</td>\n",
       "            </tr>\n",
       "            <tr>\n",
       "                        <th id=\"T_a4f0010c_edae_11ec_91bb_bc542f6058aalevel0_row1\" class=\"row_heading level0 row1\" >Freq</th>\n",
       "                        <td id=\"T_a4f0010c_edae_11ec_91bb_bc542f6058aarow1_col0\" class=\"data row1 col0\" >0.997912</td>\n",
       "                        <td id=\"T_a4f0010c_edae_11ec_91bb_bc542f6058aarow1_col1\" class=\"data row1 col1\" >1</td>\n",
       "                        <td id=\"T_a4f0010c_edae_11ec_91bb_bc542f6058aarow1_col2\" class=\"data row1 col2\" >-0.0857604</td>\n",
       "                        <td id=\"T_a4f0010c_edae_11ec_91bb_bc542f6058aarow1_col3\" class=\"data row1 col3\" >0.0863764</td>\n",
       "                        <td id=\"T_a4f0010c_edae_11ec_91bb_bc542f6058aarow1_col4\" class=\"data row1 col4\" >0.252507</td>\n",
       "                        <td id=\"T_a4f0010c_edae_11ec_91bb_bc542f6058aarow1_col5\" class=\"data row1 col5\" >0.799314</td>\n",
       "                        <td id=\"T_a4f0010c_edae_11ec_91bb_bc542f6058aarow1_col6\" class=\"data row1 col6\" >0.970812</td>\n",
       "                        <td id=\"T_a4f0010c_edae_11ec_91bb_bc542f6058aarow1_col7\" class=\"data row1 col7\" >0.953515</td>\n",
       "                        <td id=\"T_a4f0010c_edae_11ec_91bb_bc542f6058aarow1_col8\" class=\"data row1 col8\" >0.828543</td>\n",
       "            </tr>\n",
       "            <tr>\n",
       "                        <th id=\"T_a4f0010c_edae_11ec_91bb_bc542f6058aalevel0_row2\" class=\"row_heading level0 row2\" >defect</th>\n",
       "                        <td id=\"T_a4f0010c_edae_11ec_91bb_bc542f6058aarow2_col0\" class=\"data row2 col0\" >-0.085555</td>\n",
       "                        <td id=\"T_a4f0010c_edae_11ec_91bb_bc542f6058aarow2_col1\" class=\"data row2 col1\" >-0.0857604</td>\n",
       "                        <td id=\"T_a4f0010c_edae_11ec_91bb_bc542f6058aarow2_col2\" class=\"data row2 col2\" >1</td>\n",
       "                        <td id=\"T_a4f0010c_edae_11ec_91bb_bc542f6058aarow2_col3\" class=\"data row2 col3\" >-0.999995</td>\n",
       "                        <td id=\"T_a4f0010c_edae_11ec_91bb_bc542f6058aarow2_col4\" class=\"data row2 col4\" >-0.289657</td>\n",
       "                        <td id=\"T_a4f0010c_edae_11ec_91bb_bc542f6058aarow2_col5\" class=\"data row2 col5\" >-0.598468</td>\n",
       "                        <td id=\"T_a4f0010c_edae_11ec_91bb_bc542f6058aarow2_col6\" class=\"data row2 col6\" >-0.161485</td>\n",
       "                        <td id=\"T_a4f0010c_edae_11ec_91bb_bc542f6058aarow2_col7\" class=\"data row2 col7\" >0.0413057</td>\n",
       "                        <td id=\"T_a4f0010c_edae_11ec_91bb_bc542f6058aarow2_col8\" class=\"data row2 col8\" >-0.170856</td>\n",
       "            </tr>\n",
       "            <tr>\n",
       "                        <th id=\"T_a4f0010c_edae_11ec_91bb_bc542f6058aalevel0_row3\" class=\"row_heading level0 row3\" >WeldTempMain</th>\n",
       "                        <td id=\"T_a4f0010c_edae_11ec_91bb_bc542f6058aarow3_col0\" class=\"data row3 col0\" >0.0861674</td>\n",
       "                        <td id=\"T_a4f0010c_edae_11ec_91bb_bc542f6058aarow3_col1\" class=\"data row3 col1\" >0.0863764</td>\n",
       "                        <td id=\"T_a4f0010c_edae_11ec_91bb_bc542f6058aarow3_col2\" class=\"data row3 col2\" >-0.999995</td>\n",
       "                        <td id=\"T_a4f0010c_edae_11ec_91bb_bc542f6058aarow3_col3\" class=\"data row3 col3\" >1</td>\n",
       "                        <td id=\"T_a4f0010c_edae_11ec_91bb_bc542f6058aarow3_col4\" class=\"data row3 col4\" >0.289659</td>\n",
       "                        <td id=\"T_a4f0010c_edae_11ec_91bb_bc542f6058aarow3_col5\" class=\"data row3 col5\" >0.598985</td>\n",
       "                        <td id=\"T_a4f0010c_edae_11ec_91bb_bc542f6058aarow3_col6\" class=\"data row3 col6\" >0.162094</td>\n",
       "                        <td id=\"T_a4f0010c_edae_11ec_91bb_bc542f6058aarow3_col7\" class=\"data row3 col7\" >-0.0407219</td>\n",
       "                        <td id=\"T_a4f0010c_edae_11ec_91bb_bc542f6058aarow3_col8\" class=\"data row3 col8\" >0.17144</td>\n",
       "            </tr>\n",
       "            <tr>\n",
       "                        <th id=\"T_a4f0010c_edae_11ec_91bb_bc542f6058aalevel0_row4\" class=\"row_heading level0 row4\" >WeldTempPiro</th>\n",
       "                        <td id=\"T_a4f0010c_edae_11ec_91bb_bc542f6058aarow4_col0\" class=\"data row4 col0\" >0.252679</td>\n",
       "                        <td id=\"T_a4f0010c_edae_11ec_91bb_bc542f6058aarow4_col1\" class=\"data row4 col1\" >0.252507</td>\n",
       "                        <td id=\"T_a4f0010c_edae_11ec_91bb_bc542f6058aarow4_col2\" class=\"data row4 col2\" >-0.289657</td>\n",
       "                        <td id=\"T_a4f0010c_edae_11ec_91bb_bc542f6058aarow4_col3\" class=\"data row4 col3\" >0.289659</td>\n",
       "                        <td id=\"T_a4f0010c_edae_11ec_91bb_bc542f6058aarow4_col4\" class=\"data row4 col4\" >1</td>\n",
       "                        <td id=\"T_a4f0010c_edae_11ec_91bb_bc542f6058aarow4_col5\" class=\"data row4 col5\" >0.198463</td>\n",
       "                        <td id=\"T_a4f0010c_edae_11ec_91bb_bc542f6058aarow4_col6\" class=\"data row4 col6\" >0.11876</td>\n",
       "                        <td id=\"T_a4f0010c_edae_11ec_91bb_bc542f6058aarow4_col7\" class=\"data row4 col7\" >0.310118</td>\n",
       "                        <td id=\"T_a4f0010c_edae_11ec_91bb_bc542f6058aarow4_col8\" class=\"data row4 col8\" >0.0496592</td>\n",
       "            </tr>\n",
       "            <tr>\n",
       "                        <th id=\"T_a4f0010c_edae_11ec_91bb_bc542f6058aalevel0_row5\" class=\"row_heading level0 row5\" >WeldTempLandPiro</th>\n",
       "                        <td id=\"T_a4f0010c_edae_11ec_91bb_bc542f6058aarow5_col0\" class=\"data row5 col0\" >0.798839</td>\n",
       "                        <td id=\"T_a4f0010c_edae_11ec_91bb_bc542f6058aarow5_col1\" class=\"data row5 col1\" >0.799314</td>\n",
       "                        <td id=\"T_a4f0010c_edae_11ec_91bb_bc542f6058aarow5_col2\" class=\"data row5 col2\" >-0.598468</td>\n",
       "                        <td id=\"T_a4f0010c_edae_11ec_91bb_bc542f6058aarow5_col3\" class=\"data row5 col3\" >0.598985</td>\n",
       "                        <td id=\"T_a4f0010c_edae_11ec_91bb_bc542f6058aarow5_col4\" class=\"data row5 col4\" >0.198463</td>\n",
       "                        <td id=\"T_a4f0010c_edae_11ec_91bb_bc542f6058aarow5_col5\" class=\"data row5 col5\" >1</td>\n",
       "                        <td id=\"T_a4f0010c_edae_11ec_91bb_bc542f6058aarow5_col6\" class=\"data row5 col6\" >0.84639</td>\n",
       "                        <td id=\"T_a4f0010c_edae_11ec_91bb_bc542f6058aarow5_col7\" class=\"data row5 col7\" >0.686869</td>\n",
       "                        <td id=\"T_a4f0010c_edae_11ec_91bb_bc542f6058aarow5_col8\" class=\"data row5 col8\" >0.806232</td>\n",
       "            </tr>\n",
       "            <tr>\n",
       "                        <th id=\"T_a4f0010c_edae_11ec_91bb_bc542f6058aalevel0_row6\" class=\"row_heading level0 row6\" >Power</th>\n",
       "                        <td id=\"T_a4f0010c_edae_11ec_91bb_bc542f6058aarow6_col0\" class=\"data row6 col0\" >0.97814</td>\n",
       "                        <td id=\"T_a4f0010c_edae_11ec_91bb_bc542f6058aarow6_col1\" class=\"data row6 col1\" >0.970812</td>\n",
       "                        <td id=\"T_a4f0010c_edae_11ec_91bb_bc542f6058aarow6_col2\" class=\"data row6 col2\" >-0.161485</td>\n",
       "                        <td id=\"T_a4f0010c_edae_11ec_91bb_bc542f6058aarow6_col3\" class=\"data row6 col3\" >0.162094</td>\n",
       "                        <td id=\"T_a4f0010c_edae_11ec_91bb_bc542f6058aarow6_col4\" class=\"data row6 col4\" >0.11876</td>\n",
       "                        <td id=\"T_a4f0010c_edae_11ec_91bb_bc542f6058aarow6_col5\" class=\"data row6 col5\" >0.84639</td>\n",
       "                        <td id=\"T_a4f0010c_edae_11ec_91bb_bc542f6058aarow6_col6\" class=\"data row6 col6\" >1</td>\n",
       "                        <td id=\"T_a4f0010c_edae_11ec_91bb_bc542f6058aarow6_col7\" class=\"data row6 col7\" >0.897956</td>\n",
       "                        <td id=\"T_a4f0010c_edae_11ec_91bb_bc542f6058aarow6_col8\" class=\"data row6 col8\" >0.846511</td>\n",
       "            </tr>\n",
       "            <tr>\n",
       "                        <th id=\"T_a4f0010c_edae_11ec_91bb_bc542f6058aalevel0_row7\" class=\"row_heading level0 row7\" >Speed</th>\n",
       "                        <td id=\"T_a4f0010c_edae_11ec_91bb_bc542f6058aarow7_col0\" class=\"data row7 col0\" >0.95009</td>\n",
       "                        <td id=\"T_a4f0010c_edae_11ec_91bb_bc542f6058aarow7_col1\" class=\"data row7 col1\" >0.953515</td>\n",
       "                        <td id=\"T_a4f0010c_edae_11ec_91bb_bc542f6058aarow7_col2\" class=\"data row7 col2\" >0.0413057</td>\n",
       "                        <td id=\"T_a4f0010c_edae_11ec_91bb_bc542f6058aarow7_col3\" class=\"data row7 col3\" >-0.0407219</td>\n",
       "                        <td id=\"T_a4f0010c_edae_11ec_91bb_bc542f6058aarow7_col4\" class=\"data row7 col4\" >0.310118</td>\n",
       "                        <td id=\"T_a4f0010c_edae_11ec_91bb_bc542f6058aarow7_col5\" class=\"data row7 col5\" >0.686869</td>\n",
       "                        <td id=\"T_a4f0010c_edae_11ec_91bb_bc542f6058aarow7_col6\" class=\"data row7 col6\" >0.897956</td>\n",
       "                        <td id=\"T_a4f0010c_edae_11ec_91bb_bc542f6058aarow7_col7\" class=\"data row7 col7\" >1</td>\n",
       "                        <td id=\"T_a4f0010c_edae_11ec_91bb_bc542f6058aarow7_col8\" class=\"data row7 col8\" >0.76556</td>\n",
       "            </tr>\n",
       "            <tr>\n",
       "                        <th id=\"T_a4f0010c_edae_11ec_91bb_bc542f6058aalevel0_row8\" class=\"row_heading level0 row8\" >act_speed</th>\n",
       "                        <td id=\"T_a4f0010c_edae_11ec_91bb_bc542f6058aarow8_col0\" class=\"data row8 col0\" >0.826948</td>\n",
       "                        <td id=\"T_a4f0010c_edae_11ec_91bb_bc542f6058aarow8_col1\" class=\"data row8 col1\" >0.828543</td>\n",
       "                        <td id=\"T_a4f0010c_edae_11ec_91bb_bc542f6058aarow8_col2\" class=\"data row8 col2\" >-0.170856</td>\n",
       "                        <td id=\"T_a4f0010c_edae_11ec_91bb_bc542f6058aarow8_col3\" class=\"data row8 col3\" >0.17144</td>\n",
       "                        <td id=\"T_a4f0010c_edae_11ec_91bb_bc542f6058aarow8_col4\" class=\"data row8 col4\" >0.0496592</td>\n",
       "                        <td id=\"T_a4f0010c_edae_11ec_91bb_bc542f6058aarow8_col5\" class=\"data row8 col5\" >0.806232</td>\n",
       "                        <td id=\"T_a4f0010c_edae_11ec_91bb_bc542f6058aarow8_col6\" class=\"data row8 col6\" >0.846511</td>\n",
       "                        <td id=\"T_a4f0010c_edae_11ec_91bb_bc542f6058aarow8_col7\" class=\"data row8 col7\" >0.76556</td>\n",
       "                        <td id=\"T_a4f0010c_edae_11ec_91bb_bc542f6058aarow8_col8\" class=\"data row8 col8\" >1</td>\n",
       "            </tr>\n",
       "    </tbody></table>"
      ],
      "text/plain": [
       "<pandas.io.formats.style.Styler at 0x2029f85e280>"
      ]
     },
     "execution_count": 9,
     "metadata": {},
     "output_type": "execute_result"
    }
   ],
   "source": [
    "df.corr().style.background_gradient(cmap = \"coolwarm\")"
   ]
  },
  {
   "cell_type": "code",
   "execution_count": 10,
   "id": "verbal-pollution",
   "metadata": {},
   "outputs": [
    {
     "data": {
      "image/png": "[encoded data removed]",
      "text/plain": [
       "<Figure size 432x288 with 1 Axes>"
      ]
     },
     "metadata": {
      "needs_background": "light"
     },
     "output_type": "display_data"
    }
   ],
   "source": [
    "features = ['Curr', 'Freq', 'defect', 'WeldTempMain', 'WeldTempPiro', 'WeldTempLandPiro', 'Power', 'Speed', 'act_speed']\n",
    "df[features] = (df[features] - df[features].min())/(df[features].max() - df[features].min())\n",
    "df[features]\n",
    "features = ['Curr', 'Freq', 'defect', 'WeldTempMain', 'WeldTempPiro', 'WeldTempLandPiro', 'Power', 'Speed', 'act_speed']\n",
    "plt.boxplot(df[features]);"
   ]
  },
  {
   "cell_type": "code",
   "execution_count": 11,
   "id": "scenic-triple",
   "metadata": {},
   "outputs": [
    {
     "data": {
      "image/png": "[encoded data removed]",
      "text/plain": [
       "<Figure size 1440x1080 with 1 Axes>"
      ]
     },
     "metadata": {
      "needs_background": "light"
     },
     "output_type": "display_data"
    }
   ],
   "source": [
    "df.plot(x = \"WeldTempLandPiro\", y = ['Curr'], figsize = (20,15));"
   ]
  },
  {
   "cell_type": "code",
   "execution_count": 12,
   "id": "israeli-small",
   "metadata": {},
   "outputs": [
    {
     "data": {
      "image/png": "[encoded data removed]",
      "text/plain": [
       "<Figure size 1440x1080 with 1 Axes>"
      ]
     },
     "metadata": {
      "needs_background": "light"
     },
     "output_type": "display_data"
    }
   ],
   "source": [
    "df.plot(x = \"Freq\", y = ['WeldTempLandPiro'], figsize = (20,15));"
   ]
  },
  {
   "cell_type": "code",
   "execution_count": 13,
   "id": "searching-coating",
   "metadata": {},
   "outputs": [
    {
     "name": "stderr",
     "output_type": "stream",
     "text": [
      "C:\\Users\\karro\\anaconda3\\lib\\site-packages\\pandas\\plotting\\_core.py:396: UserWarning: FixedFormatter should only be used together with FixedLocator\n",
      "  ax.set_xticklabels(xticklabels)\n"
     ]
    },
    {
     "data": {
      "image/png": "[encoded data removed]",
      "text/plain": [
       "<Figure size 1440x1080 with 1 Axes>"
      ]
     },
     "metadata": {
      "needs_background": "light"
     },
     "output_type": "display_data"
    }
   ],
   "source": [
    "df.plot(x = \"Volt\", y = ['WeldTempLandPiro'], figsize = (20,15));"
   ]
  },
  {
   "cell_type": "code",
   "execution_count": 14,
   "id": "english-possibility",
   "metadata": {},
   "outputs": [
    {
     "data": {
      "image/png": "[encoded data removed]",
      "text/plain": [
       "<Figure size 1440x1080 with 1 Axes>"
      ]
     },
     "metadata": {
      "needs_background": "light"
     },
     "output_type": "display_data"
    }
   ],
   "source": [
    "df.plot(x = \"WeldTempLandPiro\", y = ['Power'], figsize = (20,15));"
   ]
  },
  {
   "cell_type": "markdown",
   "id": "interior-sixth",
   "metadata": {},
   "source": [
    "### Outliers\n",
    "Values of the interquartile range"
   ]
  },
  {
   "cell_type": "code",
   "execution_count": 15,
   "id": "vital-liberty",
   "metadata": {},
   "outputs": [],
   "source": [
    "q1 = df.quantile(0.25) \n",
    "q3 = df.quantile(0.75) \n",
    "iqr = q3 - q1 "
   ]
  },
  {
   "cell_type": "code",
   "execution_count": 16,
   "id": "technical-spending",
   "metadata": {},
   "outputs": [],
   "source": [
    "low_boundary = (q1 - 1.5 * iqr)\n",
    "upp_boundary = (q3 + 1.5 * iqr)\n",
    "num_of_outliers_L = (df[iqr.index] < low_boundary).sum()\n",
    "num_of_outliers_U = (df[iqr.index] > upp_boundary).sum()\n",
    "outliers_15iqr = pd.DataFrame({'lower_boundary':low_boundary, 'upper_boundary':upp_boundary,'num_of_outliers_L':num_of_outliers_L, 'num_of_outliers_U':num_of_outliers_U})"
   ]
  },
  {
   "cell_type": "code",
   "execution_count": 17,
   "id": "floppy-status",
   "metadata": {},
   "outputs": [
    {
     "data": {
      "text/html": [
       "<div>\n",
       "<style scoped>\n",
       "    .dataframe tbody tr th:only-of-type {\n",
       "        vertical-align: middle;\n",
       "    }\n",
       "\n",
       "    .dataframe tbody tr th {\n",
       "        vertical-align: top;\n",
       "    }\n",
       "\n",
       "    .dataframe thead th {\n",
       "        text-align: right;\n",
       "    }\n",
       "</style>\n",
       "<table border=\"1\" class=\"dataframe\">\n",
       "  <thead>\n",
       "    <tr style=\"text-align: right;\">\n",
       "      <th></th>\n",
       "      <th>lower_boundary</th>\n",
       "      <th>upper_boundary</th>\n",
       "      <th>num_of_outliers_L</th>\n",
       "      <th>num_of_outliers_U</th>\n",
       "    </tr>\n",
       "  </thead>\n",
       "  <tbody>\n",
       "    <tr>\n",
       "      <th>Curr</th>\n",
       "      <td>0.000480</td>\n",
       "      <td>0.000480</td>\n",
       "      <td>1260</td>\n",
       "      <td>6653</td>\n",
       "    </tr>\n",
       "    <tr>\n",
       "      <th>Freq</th>\n",
       "      <td>0.002844</td>\n",
       "      <td>0.002844</td>\n",
       "      <td>87</td>\n",
       "      <td>6657</td>\n",
       "    </tr>\n",
       "    <tr>\n",
       "      <th>defect</th>\n",
       "      <td>-0.000139</td>\n",
       "      <td>0.006187</td>\n",
       "      <td>0</td>\n",
       "      <td>4352</td>\n",
       "    </tr>\n",
       "    <tr>\n",
       "      <th>WeldTempMain</th>\n",
       "      <td>1.000000</td>\n",
       "      <td>1.000000</td>\n",
       "      <td>4103</td>\n",
       "      <td>0</td>\n",
       "    </tr>\n",
       "    <tr>\n",
       "      <th>WeldTempPiro</th>\n",
       "      <td>0.185717</td>\n",
       "      <td>0.185717</td>\n",
       "      <td>3698</td>\n",
       "      <td>405</td>\n",
       "    </tr>\n",
       "    <tr>\n",
       "      <th>WeldTempLandPiro</th>\n",
       "      <td>0.374629</td>\n",
       "      <td>0.374629</td>\n",
       "      <td>4103</td>\n",
       "      <td>6553</td>\n",
       "    </tr>\n",
       "    <tr>\n",
       "      <th>Power</th>\n",
       "      <td>0.008285</td>\n",
       "      <td>0.008285</td>\n",
       "      <td>4860</td>\n",
       "      <td>6701</td>\n",
       "    </tr>\n",
       "    <tr>\n",
       "      <th>Speed</th>\n",
       "      <td>-0.073354</td>\n",
       "      <td>0.125978</td>\n",
       "      <td>0</td>\n",
       "      <td>6642</td>\n",
       "    </tr>\n",
       "    <tr>\n",
       "      <th>act_speed</th>\n",
       "      <td>0.000000</td>\n",
       "      <td>0.000000</td>\n",
       "      <td>0</td>\n",
       "      <td>7554</td>\n",
       "    </tr>\n",
       "  </tbody>\n",
       "</table>\n",
       "</div>"
      ],
      "text/plain": [
       "                  lower_boundary  upper_boundary  num_of_outliers_L  \\\n",
       "Curr                    0.000480        0.000480               1260   \n",
       "Freq                    0.002844        0.002844                 87   \n",
       "defect                 -0.000139        0.006187                  0   \n",
       "WeldTempMain            1.000000        1.000000               4103   \n",
       "WeldTempPiro            0.185717        0.185717               3698   \n",
       "WeldTempLandPiro        0.374629        0.374629               4103   \n",
       "Power                   0.008285        0.008285               4860   \n",
       "Speed                  -0.073354        0.125978                  0   \n",
       "act_speed               0.000000        0.000000                  0   \n",
       "\n",
       "                  num_of_outliers_U  \n",
       "Curr                           6653  \n",
       "Freq                           6657  \n",
       "defect                         4352  \n",
       "WeldTempMain                      0  \n",
       "WeldTempPiro                    405  \n",
       "WeldTempLandPiro               6553  \n",
       "Power                          6701  \n",
       "Speed                          6642  \n",
       "act_speed                      7554  "
      ]
     },
     "execution_count": 17,
     "metadata": {},
     "output_type": "execute_result"
    }
   ],
   "source": [
    "outliers_15iqr"
   ]
  },
  {
   "cell_type": "markdown",
   "id": "mineral-brick",
   "metadata": {},
   "source": [
    "The rule of three sigmas"
   ]
  },
  {
   "cell_type": "code",
   "execution_count": 18,
   "id": "central-southwest",
   "metadata": {},
   "outputs": [],
   "source": [
    "features = ['Curr', 'Freq', 'defect', 'WeldTempMain', 'WeldTempPiro', 'WeldTempLandPiro', 'Power', 'Speed', 'act_speed']\n",
    "sigma = df[features].std()\n",
    "mean = df[features].mean()"
   ]
  },
  {
   "cell_type": "code",
   "execution_count": 19,
   "id": "prospective-elite",
   "metadata": {},
   "outputs": [],
   "source": [
    "low_boundary = (mean - 3 * sigma)\n",
    "upp_boundary = (mean + 3 * sigma)\n",
    "num_of_outliers_L = (df[features] < low_boundary).sum()\n",
    "num_of_outliers_U = (df[features] > upp_boundary).sum()\n",
    "outliers_3sigma = pd.DataFrame({'lower_boundary':low_boundary, 'upper_boundary':upp_boundary,'num_of_outliers_L':num_of_outliers_L, 'num_of_outliers_U':num_of_outliers_U})"
   ]
  },
  {
   "cell_type": "code",
   "execution_count": 20,
   "id": "paperback-bruce",
   "metadata": {},
   "outputs": [
    {
     "data": {
      "text/html": [
       "<div>\n",
       "<style scoped>\n",
       "    .dataframe tbody tr th:only-of-type {\n",
       "        vertical-align: middle;\n",
       "    }\n",
       "\n",
       "    .dataframe tbody tr th {\n",
       "        vertical-align: top;\n",
       "    }\n",
       "\n",
       "    .dataframe thead th {\n",
       "        text-align: right;\n",
       "    }\n",
       "</style>\n",
       "<table border=\"1\" class=\"dataframe\">\n",
       "  <thead>\n",
       "    <tr style=\"text-align: right;\">\n",
       "      <th></th>\n",
       "      <th>lower_boundary</th>\n",
       "      <th>upper_boundary</th>\n",
       "      <th>num_of_outliers_L</th>\n",
       "      <th>num_of_outliers_U</th>\n",
       "    </tr>\n",
       "  </thead>\n",
       "  <tbody>\n",
       "    <tr>\n",
       "      <th>Curr</th>\n",
       "      <td>-0.516186</td>\n",
       "      <td>0.711245</td>\n",
       "      <td>0</td>\n",
       "      <td>15</td>\n",
       "    </tr>\n",
       "    <tr>\n",
       "      <th>Freq</th>\n",
       "      <td>-0.947468</td>\n",
       "      <td>1.311267</td>\n",
       "      <td>0</td>\n",
       "      <td>0</td>\n",
       "    </tr>\n",
       "    <tr>\n",
       "      <th>defect</th>\n",
       "      <td>-0.833934</td>\n",
       "      <td>1.067124</td>\n",
       "      <td>0</td>\n",
       "      <td>0</td>\n",
       "    </tr>\n",
       "    <tr>\n",
       "      <th>WeldTempMain</th>\n",
       "      <td>-0.067318</td>\n",
       "      <td>1.839374</td>\n",
       "      <td>0</td>\n",
       "      <td>0</td>\n",
       "    </tr>\n",
       "    <tr>\n",
       "      <th>WeldTempPiro</th>\n",
       "      <td>-0.125985</td>\n",
       "      <td>0.476553</td>\n",
       "      <td>0</td>\n",
       "      <td>405</td>\n",
       "    </tr>\n",
       "    <tr>\n",
       "      <th>WeldTempLandPiro</th>\n",
       "      <td>-0.330026</td>\n",
       "      <td>1.188120</td>\n",
       "      <td>0</td>\n",
       "      <td>0</td>\n",
       "    </tr>\n",
       "    <tr>\n",
       "      <th>Power</th>\n",
       "      <td>-0.271369</td>\n",
       "      <td>0.387147</td>\n",
       "      <td>0</td>\n",
       "      <td>15</td>\n",
       "    </tr>\n",
       "    <tr>\n",
       "      <th>Speed</th>\n",
       "      <td>-0.561957</td>\n",
       "      <td>0.786718</td>\n",
       "      <td>0</td>\n",
       "      <td>369</td>\n",
       "    </tr>\n",
       "    <tr>\n",
       "      <th>act_speed</th>\n",
       "      <td>-0.936927</td>\n",
       "      <td>1.292086</td>\n",
       "      <td>0</td>\n",
       "      <td>0</td>\n",
       "    </tr>\n",
       "  </tbody>\n",
       "</table>\n",
       "</div>"
      ],
      "text/plain": [
       "                  lower_boundary  upper_boundary  num_of_outliers_L  \\\n",
       "Curr                   -0.516186        0.711245                  0   \n",
       "Freq                   -0.947468        1.311267                  0   \n",
       "defect                 -0.833934        1.067124                  0   \n",
       "WeldTempMain           -0.067318        1.839374                  0   \n",
       "WeldTempPiro           -0.125985        0.476553                  0   \n",
       "WeldTempLandPiro       -0.330026        1.188120                  0   \n",
       "Power                  -0.271369        0.387147                  0   \n",
       "Speed                  -0.561957        0.786718                  0   \n",
       "act_speed              -0.936927        1.292086                  0   \n",
       "\n",
       "                  num_of_outliers_U  \n",
       "Curr                             15  \n",
       "Freq                              0  \n",
       "defect                            0  \n",
       "WeldTempMain                      0  \n",
       "WeldTempPiro                    405  \n",
       "WeldTempLandPiro                  0  \n",
       "Power                            15  \n",
       "Speed                           369  \n",
       "act_speed                         0  "
      ]
     },
     "execution_count": 20,
     "metadata": {},
     "output_type": "execute_result"
    }
   ],
   "source": [
    "outliers_3sigma"
   ]
  },
  {
   "cell_type": "markdown",
   "id": "moral-government",
   "metadata": {},
   "source": [
    "### Machine learning"
   ]
  },
  {
   "cell_type": "code",
   "execution_count": 21,
   "id": "reverse-mixer",
   "metadata": {},
   "outputs": [
    {
     "name": "stderr",
     "output_type": "stream",
     "text": [
      "C:\\Users\\karro\\anaconda3\\lib\\site-packages\\seaborn\\axisgrid.py:1969: UserWarning: The `size` parameter has been renamed to `height`; please update your code.\n",
      "  warnings.warn(msg, UserWarning)\n"
     ]
    },
    {
     "data": {
      "image/png": "[encoded data removed]",
      "text/plain": [
       "<Figure size 2592x288 with 10 Axes>"
      ]
     },
     "metadata": {
      "needs_background": "light"
     },
     "output_type": "display_data"
    }
   ],
   "source": [
    "# Import matplotlib and seaborn libraries to visualize the data\n",
    "import matplotlib.pyplot as plt \n",
    "import seaborn as sns\n",
    "\n",
    "# Using pairplot we'll visualize the data for correlation\n",
    "sns.pairplot(df, x_vars=features, \n",
    "             y_vars='WeldTempLandPiro', size=4, aspect=1, kind='scatter')\n",
    "plt.show()"
   ]
  },
  {
   "cell_type": "code",
   "execution_count": 22,
   "id": "material-customs",
   "metadata": {},
   "outputs": [
    {
     "data": {
      "image/png": "[encoded data removed]",
      "text/plain": [
       "<Figure size 432x288 with 2 Axes>"
      ]
     },
     "metadata": {
      "needs_background": "light"
     },
     "output_type": "display_data"
    }
   ],
   "source": [
    "sns.heatmap(df.corr(), cmap=\"YlGnBu\", annot = True)\n",
    "plt.show()"
   ]
  },
  {
   "cell_type": "code",
   "execution_count": 23,
   "id": "going-express",
   "metadata": {},
   "outputs": [],
   "source": [
    "# Creating X and y\n",
    "X = df['Power']\n",
    "y = df['WeldTempLandPiro']"
   ]
  },
  {
   "cell_type": "code",
   "execution_count": 24,
   "id": "brief-anthropology",
   "metadata": {},
   "outputs": [],
   "source": [
    "# Splitting the varaibles as training and testing\n",
    "from sklearn.model_selection import train_test_split\n",
    "X_train, X_test, y_train, y_test = train_test_split(X, y, train_size = 0.7, \n",
    "                                                    test_size = 0.3, random_state = 100)"
   ]
  },
  {
   "cell_type": "code",
   "execution_count": 25,
   "id": "excess-margin",
   "metadata": {},
   "outputs": [
    {
     "data": {
      "text/plain": [
       "1354     3.746286e-01\n",
       "7587     9.447561e-01\n",
       "19268    8.377723e-01\n",
       "33293    7.179044e-02\n",
       "30756    3.746286e-01\n",
       "35402    1.018717e-07\n",
       "34390    1.018717e-07\n",
       "29671    3.746286e-01\n",
       "20477    3.746286e-01\n",
       "32827    1.018717e-07\n",
       "26651    3.746286e-01\n",
       "33321    7.180204e-02\n",
       "35495    1.018717e-07\n",
       "26481    3.746286e-01\n",
       "32078    1.018717e-07\n",
       "21028    3.746286e-01\n",
       "17994    3.746286e-01\n",
       "13514    3.746286e-01\n",
       "9896     3.746286e-01\n",
       "12698    3.746286e-01\n",
       "7326     3.746286e-01\n",
       "3350     3.746286e-01\n",
       "31945    1.018717e-07\n",
       "14987    3.746286e-01\n",
       "2417     3.746286e-01\n",
       "19908    3.746286e-01\n",
       "4601     9.456614e-01\n",
       "22284    8.957156e-01\n",
       "21527    8.839961e-01\n",
       "2214     3.746286e-01\n",
       "             ...     \n",
       "20151    3.746286e-01\n",
       "10557    3.746286e-01\n",
       "28353    3.746286e-01\n",
       "30769    3.746286e-01\n",
       "12219    9.357024e-01\n",
       "10843    9.281578e-01\n",
       "6901     3.746286e-01\n",
       "21377    8.945084e-01\n",
       "27039    3.746286e-01\n",
       "30596    3.746286e-01\n",
       "18284    8.557286e-01\n",
       "5787     3.746286e-01\n",
       "18818    8.416452e-01\n",
       "6230     3.746286e-01\n",
       "15453    3.746286e-01\n",
       "7738     9.145773e-01\n",
       "17724    3.746286e-01\n",
       "26255    3.746286e-01\n",
       "20760    3.746286e-01\n",
       "13297    3.746286e-01\n",
       "5646     3.746286e-01\n",
       "13890    3.746286e-01\n",
       "20533    3.746286e-01\n",
       "10082    3.746286e-01\n",
       "14260    3.746286e-01\n",
       "16734    3.746286e-01\n",
       "16304    8.398848e-01\n",
       "79       3.746286e-01\n",
       "12119    9.239662e-01\n",
       "14147    3.746286e-01\n",
       "Name: WeldTempLandPiro, Length: 25200, dtype: float64"
      ]
     },
     "execution_count": 25,
     "metadata": {},
     "output_type": "execute_result"
    }
   ],
   "source": [
    "# Take a look at the train dataset\n",
    "X_train\n",
    "y_train"
   ]
  },
  {
   "cell_type": "code",
   "execution_count": 26,
   "id": "inclusive-terry",
   "metadata": {},
   "outputs": [
    {
     "name": "stderr",
     "output_type": "stream",
     "text": [
      "C:\\Users\\karro\\anaconda3\\lib\\site-packages\\numpy\\core\\fromnumeric.py:2580: FutureWarning: Method .ptp is deprecated and will be removed in a future version. Use numpy.ptp instead.\n",
      "  return ptp(axis=axis, out=out, **kwargs)\n"
     ]
    }
   ],
   "source": [
    "# Importing Statsmodels.api library from Stamodel package\n",
    "import statsmodels.api as sm\n",
    "\n",
    "# Adding a constant to get an intercept\n",
    "X_train_sm = sm.add_constant(X_train);"
   ]
  },
  {
   "cell_type": "code",
   "execution_count": 27,
   "id": "approved-environment",
   "metadata": {},
   "outputs": [
    {
     "data": {
      "text/plain": [
       "const    0.316015\n",
       "Power    1.949899\n",
       "dtype: float64"
      ]
     },
     "execution_count": 27,
     "metadata": {},
     "output_type": "execute_result"
    }
   ],
   "source": [
    "# Fitting the resgression line using 'OLS'\n",
    "lr = sm.OLS(y_train, X_train_sm).fit()\n",
    "\n",
    "# Printing the parameters\n",
    "lr.params"
   ]
  },
  {
   "cell_type": "code",
   "execution_count": 28,
   "id": "vanilla-memphis",
   "metadata": {},
   "outputs": [
    {
     "data": {
      "text/html": [
       "<table class=\"simpletable\">\n",
       "<caption>OLS Regression Results</caption>\n",
       "<tr>\n",
       "  <th>Dep. Variable:</th>    <td>WeldTempLandPiro</td> <th>  R-squared:         </th>  <td>   0.714</td> \n",
       "</tr>\n",
       "<tr>\n",
       "  <th>Model:</th>                   <td>OLS</td>       <th>  Adj. R-squared:    </th>  <td>   0.714</td> \n",
       "</tr>\n",
       "<tr>\n",
       "  <th>Method:</th>             <td>Least Squares</td>  <th>  F-statistic:       </th>  <td>6.294e+04</td>\n",
       "</tr>\n",
       "<tr>\n",
       "  <th>Date:</th>             <td>Thu, 16 Jun 2022</td> <th>  Prob (F-statistic):</th>   <td>  0.00</td>  \n",
       "</tr>\n",
       "<tr>\n",
       "  <th>Time:</th>                 <td>22:03:44</td>     <th>  Log-Likelihood:    </th>  <td>  14644.</td> \n",
       "</tr>\n",
       "<tr>\n",
       "  <th>No. Observations:</th>      <td> 25200</td>      <th>  AIC:               </th> <td>-2.928e+04</td>\n",
       "</tr>\n",
       "<tr>\n",
       "  <th>Df Residuals:</th>          <td> 25198</td>      <th>  BIC:               </th> <td>-2.927e+04</td>\n",
       "</tr>\n",
       "<tr>\n",
       "  <th>Df Model:</th>              <td>     1</td>      <th>                     </th>      <td> </td>    \n",
       "</tr>\n",
       "<tr>\n",
       "  <th>Covariance Type:</th>      <td>nonrobust</td>    <th>                     </th>      <td> </td>    \n",
       "</tr>\n",
       "</table>\n",
       "<table class=\"simpletable\">\n",
       "<tr>\n",
       "    <td></td>       <th>coef</th>     <th>std err</th>      <th>t</th>      <th>P>|t|</th>  <th>[0.025</th>    <th>0.975]</th>  \n",
       "</tr>\n",
       "<tr>\n",
       "  <th>const</th> <td>    0.3160</td> <td>    0.001</td> <td>  328.110</td> <td> 0.000</td> <td>    0.314</td> <td>    0.318</td>\n",
       "</tr>\n",
       "<tr>\n",
       "  <th>Power</th> <td>    1.9499</td> <td>    0.008</td> <td>  250.882</td> <td> 0.000</td> <td>    1.935</td> <td>    1.965</td>\n",
       "</tr>\n",
       "</table>\n",
       "<table class=\"simpletable\">\n",
       "<tr>\n",
       "  <th>Omnibus:</th>       <td>13764.430</td> <th>  Durbin-Watson:     </th>  <td>   1.998</td> \n",
       "</tr>\n",
       "<tr>\n",
       "  <th>Prob(Omnibus):</th>  <td> 0.000</td>   <th>  Jarque-Bera (JB):  </th> <td>462193.313</td>\n",
       "</tr>\n",
       "<tr>\n",
       "  <th>Skew:</th>           <td>-2.031</td>   <th>  Prob(JB):          </th>  <td>    0.00</td> \n",
       "</tr>\n",
       "<tr>\n",
       "  <th>Kurtosis:</th>       <td>23.584</td>   <th>  Cond. No.          </th>  <td>    9.15</td> \n",
       "</tr>\n",
       "</table><br/><br/>Notes:<br/>[1] Standard Errors assume that the covariance matrix of the errors is correctly specified."
      ],
      "text/plain": [
       "<class 'statsmodels.iolib.summary.Summary'>\n",
       "\"\"\"\n",
       "                            OLS Regression Results                            \n",
       "==============================================================================\n",
       "Dep. Variable:       WeldTempLandPiro   R-squared:                       0.714\n",
       "Model:                            OLS   Adj. R-squared:                  0.714\n",
       "Method:                 Least Squares   F-statistic:                 6.294e+04\n",
       "Date:                Thu, 16 Jun 2022   Prob (F-statistic):               0.00\n",
       "Time:                        22:03:44   Log-Likelihood:                 14644.\n",
       "No. Observations:               25200   AIC:                        -2.928e+04\n",
       "Df Residuals:                   25198   BIC:                        -2.927e+04\n",
       "Df Model:                           1                                         \n",
       "Covariance Type:            nonrobust                                         \n",
       "==============================================================================\n",
       "                 coef    std err          t      P>|t|      [0.025      0.975]\n",
       "------------------------------------------------------------------------------\n",
       "const          0.3160      0.001    328.110      0.000       0.314       0.318\n",
       "Power          1.9499      0.008    250.882      0.000       1.935       1.965\n",
       "==============================================================================\n",
       "Omnibus:                    13764.430   Durbin-Watson:                   1.998\n",
       "Prob(Omnibus):                  0.000   Jarque-Bera (JB):           462193.313\n",
       "Skew:                          -2.031   Prob(JB):                         0.00\n",
       "Kurtosis:                      23.584   Cond. No.                         9.15\n",
       "==============================================================================\n",
       "\n",
       "Notes:\n",
       "[1] Standard Errors assume that the covariance matrix of the errors is correctly specified.\n",
       "\"\"\""
      ]
     },
     "execution_count": 28,
     "metadata": {},
     "output_type": "execute_result"
    }
   ],
   "source": [
    "# Performing a summary to list out all the different parameters of the regression line fitted\n",
    "lr.summary()"
   ]
  },
  {
   "cell_type": "code",
   "execution_count": 29,
   "id": "electrical-reservoir",
   "metadata": {},
   "outputs": [
    {
     "data": {
      "image/png": "[encoded data removed]",
      "text/plain": [
       "<Figure size 432x288 with 1 Axes>"
      ]
     },
     "metadata": {
      "needs_background": "light"
     },
     "output_type": "display_data"
    }
   ],
   "source": [
    "# Visualizing the regression line\n",
    "plt.scatter(X_train, y_train)\n",
    "plt.plot(X_train, 0.3160 + 1.9499*X_train, 'r')\n",
    "plt.show()"
   ]
  },
  {
   "cell_type": "code",
   "execution_count": 30,
   "id": "infrared-commonwealth",
   "metadata": {},
   "outputs": [],
   "source": [
    "# Predicting y_value using traingn data of X\n",
    "y_train_pred = lr.predict(X_train_sm)\n",
    "\n",
    "# Creating residuals from the y_train data and predicted y_data\n",
    "res = (y_train - y_train_pred)"
   ]
  },
  {
   "cell_type": "code",
   "execution_count": 31,
   "id": "parallel-destination",
   "metadata": {},
   "outputs": [
    {
     "name": "stderr",
     "output_type": "stream",
     "text": [
      "C:\\Users\\karro\\anaconda3\\lib\\site-packages\\seaborn\\distributions.py:2557: FutureWarning: `distplot` is a deprecated function and will be removed in a future version. Please adapt your code to use either `displot` (a figure-level function with similar flexibility) or `histplot` (an axes-level function for histograms).\n",
      "  warnings.warn(msg, FutureWarning)\n"
     ]
    },
    {
     "data": {
      "image/png": "[encoded data removed]",
      "text/plain": [
       "<Figure size 432x288 with 1 Axes>"
      ]
     },
     "metadata": {
      "needs_background": "light"
     },
     "output_type": "display_data"
    }
   ],
   "source": [
    "# Plotting the histogram using the residual values\n",
    "fig = plt.figure()\n",
    "sns.distplot(res, bins = 15)\n",
    "plt.title('Error Terms', fontsize = 15)\n",
    "plt.xlabel('y_train - y_train_pred', fontsize = 15)\n",
    "plt.show();"
   ]
  },
  {
   "cell_type": "code",
   "execution_count": 32,
   "id": "unlike-might",
   "metadata": {},
   "outputs": [
    {
     "data": {
      "image/png": "[encoded data removed]",
      "text/plain": [
       "<Figure size 432x288 with 1 Axes>"
      ]
     },
     "metadata": {
      "needs_background": "light"
     },
     "output_type": "display_data"
    }
   ],
   "source": [
    "# Looking for any patterns in the residuals\n",
    "plt.scatter(X_train,res)\n",
    "plt.show()"
   ]
  },
  {
   "cell_type": "code",
   "execution_count": 33,
   "id": "chief-annex",
   "metadata": {},
   "outputs": [
    {
     "name": "stderr",
     "output_type": "stream",
     "text": [
      "C:\\Users\\karro\\anaconda3\\lib\\site-packages\\numpy\\core\\fromnumeric.py:2580: FutureWarning: Method .ptp is deprecated and will be removed in a future version. Use numpy.ptp instead.\n",
      "  return ptp(axis=axis, out=out, **kwargs)\n"
     ]
    },
    {
     "data": {
      "text/plain": [
       "20743    0.332170\n",
       "17086    0.332170\n",
       "8153     0.332170\n",
       "15899    0.332170\n",
       "18520    0.856774\n",
       "508      0.332170\n",
       "35108    0.316331\n",
       "12733    0.332170\n",
       "13615    0.332170\n",
       "26638    0.332170\n",
       "3227     0.332170\n",
       "2950     0.332170\n",
       "20474    0.332170\n",
       "18745    0.856555\n",
       "28955    0.332170\n",
       "3279     0.332170\n",
       "7689     0.894071\n",
       "16679    0.808480\n",
       "17626    0.332170\n",
       "24641    0.896756\n",
       "35724    0.316331\n",
       "7671     0.894671\n",
       "33030    0.316331\n",
       "33099    0.316331\n",
       "16468    0.808316\n",
       "27121    0.332170\n",
       "6854     0.332170\n",
       "3962     0.332170\n",
       "24671    0.896336\n",
       "16324    0.809403\n",
       "           ...   \n",
       "19836    0.332170\n",
       "27529    0.332170\n",
       "3082     0.332170\n",
       "35766    0.316331\n",
       "12342    0.906782\n",
       "17972    0.332170\n",
       "35991    0.316331\n",
       "1715     0.935330\n",
       "30505    0.332170\n",
       "30087    0.332170\n",
       "30957    0.332170\n",
       "31455    0.332170\n",
       "26201    0.332170\n",
       "10132    0.332170\n",
       "33898    0.316331\n",
       "32937    0.316331\n",
       "27635    0.332170\n",
       "23139    0.332170\n",
       "13893    0.332170\n",
       "16436    0.809147\n",
       "34729    0.316331\n",
       "3085     0.332170\n",
       "2568     0.332170\n",
       "6195     0.332170\n",
       "11258    0.332170\n",
       "30005    0.332170\n",
       "7590     0.892621\n",
       "8591     0.332170\n",
       "34104    0.316015\n",
       "9205     0.332170\n",
       "Length: 10800, dtype: float64"
      ]
     },
     "execution_count": 33,
     "metadata": {},
     "output_type": "execute_result"
    }
   ],
   "source": [
    "# Adding a constant to X_test\n",
    "X_test_sm = sm.add_constant(X_test)\n",
    "\n",
    "# Predicting the y values corresponding to X_test_sm\n",
    "y_test_pred = lr.predict(X_test_sm)\n",
    "\n",
    "# Printing the first 15 predicted values\n",
    "y_test_pred"
   ]
  },
  {
   "cell_type": "code",
   "execution_count": 34,
   "id": "tamil-gathering",
   "metadata": {},
   "outputs": [
    {
     "data": {
      "text/plain": [
       "0.721650177124302"
      ]
     },
     "execution_count": 34,
     "metadata": {},
     "output_type": "execute_result"
    }
   ],
   "source": [
    "# Importing r2_square\n",
    "from sklearn.metrics import r2_score\n",
    "\n",
    "# Checking the R-squared value\n",
    "r_squared = r2_score(y_test, y_test_pred)\n",
    "r_squared"
   ]
  },
  {
   "cell_type": "code",
   "execution_count": 35,
   "id": "discrete-debate",
   "metadata": {},
   "outputs": [
    {
     "data": {
      "image/png": "[encoded data removed]",
      "text/plain": [
       "<Figure size 432x288 with 1 Axes>"
      ]
     },
     "metadata": {
      "needs_background": "light"
     },
     "output_type": "display_data"
    }
   ],
   "source": [
    "# Visualize the line on the test set\n",
    "plt.scatter(X_test, y_test)\n",
    "plt.plot(X_test, y_test_pred, 'r')\n",
    "plt.xlabel('X_train')\n",
    "plt.ylabel('y_label')\n",
    "plt.show()"
   ]
  },
  {
   "cell_type": "code",
   "execution_count": 36,
   "id": "foster-liquid",
   "metadata": {},
   "outputs": [
    {
     "data": {
      "image/png": "[encoded data removed]",
      "text/plain": [
       "<Figure size 432x288 with 1 Axes>"
      ]
     },
     "metadata": {
      "needs_background": "light"
     },
     "output_type": "display_data"
    }
   ],
   "source": [
    "plt.scatter(X_train,res)\n",
    "plt.show()"
   ]
  },
  {
   "cell_type": "code",
   "execution_count": 37,
   "id": "faced-kenya",
   "metadata": {},
   "outputs": [
    {
     "name": "stderr",
     "output_type": "stream",
     "text": [
      "C:\\Users\\karro\\anaconda3\\lib\\site-packages\\numpy\\core\\fromnumeric.py:2580: FutureWarning: Method .ptp is deprecated and will be removed in a future version. Use numpy.ptp instead.\n",
      "  return ptp(axis=axis, out=out, **kwargs)\n"
     ]
    },
    {
     "data": {
      "text/plain": [
       "20743    0.332170\n",
       "17086    0.332170\n",
       "8153     0.332170\n",
       "15899    0.332170\n",
       "18520    0.856774\n",
       "508      0.332170\n",
       "35108    0.316331\n",
       "12733    0.332170\n",
       "13615    0.332170\n",
       "26638    0.332170\n",
       "3227     0.332170\n",
       "2950     0.332170\n",
       "20474    0.332170\n",
       "18745    0.856555\n",
       "28955    0.332170\n",
       "3279     0.332170\n",
       "7689     0.894071\n",
       "16679    0.808480\n",
       "17626    0.332170\n",
       "24641    0.896756\n",
       "35724    0.316331\n",
       "7671     0.894671\n",
       "33030    0.316331\n",
       "33099    0.316331\n",
       "16468    0.808316\n",
       "27121    0.332170\n",
       "6854     0.332170\n",
       "3962     0.332170\n",
       "24671    0.896336\n",
       "16324    0.809403\n",
       "           ...   \n",
       "19836    0.332170\n",
       "27529    0.332170\n",
       "3082     0.332170\n",
       "35766    0.316331\n",
       "12342    0.906782\n",
       "17972    0.332170\n",
       "35991    0.316331\n",
       "1715     0.935330\n",
       "30505    0.332170\n",
       "30087    0.332170\n",
       "30957    0.332170\n",
       "31455    0.332170\n",
       "26201    0.332170\n",
       "10132    0.332170\n",
       "33898    0.316331\n",
       "32937    0.316331\n",
       "27635    0.332170\n",
       "23139    0.332170\n",
       "13893    0.332170\n",
       "16436    0.809147\n",
       "34729    0.316331\n",
       "3085     0.332170\n",
       "2568     0.332170\n",
       "6195     0.332170\n",
       "11258    0.332170\n",
       "30005    0.332170\n",
       "7590     0.892621\n",
       "8591     0.332170\n",
       "34104    0.316015\n",
       "9205     0.332170\n",
       "Length: 10800, dtype: float64"
      ]
     },
     "execution_count": 37,
     "metadata": {},
     "output_type": "execute_result"
    }
   ],
   "source": [
    "# Adding a constant to X_test\n",
    "X_test_sm = sm.add_constant(X_test)\n",
    "\n",
    "# Predicting the y values corresponding to X_test_sm\n",
    "y_test_pred = lr.predict(X_test_sm)\n",
    "\n",
    "# Printing the first 15 predicted values\n",
    "y_test_pred"
   ]
  },
  {
   "cell_type": "code",
   "execution_count": 38,
   "id": "ancient-development",
   "metadata": {},
   "outputs": [
    {
     "data": {
      "text/plain": [
       "0.721650177124302"
      ]
     },
     "execution_count": 38,
     "metadata": {},
     "output_type": "execute_result"
    }
   ],
   "source": [
    "# Importing r2_square\n",
    "from sklearn.metrics import r2_score\n",
    "\n",
    "# Checking the R-squared value\n",
    "r_squared = r2_score(y_test, y_test_pred)\n",
    "r_squared"
   ]
  },
  {
   "cell_type": "code",
   "execution_count": 39,
   "id": "changed-instrumentation",
   "metadata": {},
   "outputs": [
    {
     "data": {
      "image/png": "[encoded data removed]",
      "text/plain": [
       "<Figure size 432x288 with 1 Axes>"
      ]
     },
     "metadata": {
      "needs_background": "light"
     },
     "output_type": "display_data"
    }
   ],
   "source": [
    "# Visualize the line on the test set\n",
    "plt.scatter(X_test, y_test)\n",
    "plt.plot(X_test, y_test_pred, 'r')\n",
    "plt.show()"
   ]
  },
  {
   "cell_type": "code",
   "execution_count": 40,
   "id": "several-hospital",
   "metadata": {},
   "outputs": [],
   "source": [
    "# Splitting the data into train and test\n",
    "from sklearn.model_selection import train_test_split\n",
    "X_train_lm, X_test_lm, y_train_lm, y_test_lm = train_test_split(X, y, train_size = 0.7, \n",
    "                                                                test_size = 0.3, random_state = 100)"
   ]
  },
  {
   "cell_type": "code",
   "execution_count": 41,
   "id": "artistic-auction",
   "metadata": {},
   "outputs": [
    {
     "name": "stdout",
     "output_type": "stream",
     "text": [
      "(25200, 1)\n",
      "(10800, 1)\n"
     ]
    }
   ],
   "source": [
    "# Shape of the train set without adding column\n",
    "X_train_lm.shape\n",
    "\n",
    "# Adding additional column to the train and test data\n",
    "X_train_lm = X_train_lm.values.reshape(-1,1)\n",
    "X_test_lm = X_test_lm.values.reshape(-1,1)\n",
    "\n",
    "print(X_train_lm.shape)\n",
    "print(X_test_lm.shape)"
   ]
  },
  {
   "cell_type": "code",
   "execution_count": 42,
   "id": "changed-asset",
   "metadata": {},
   "outputs": [
    {
     "data": {
      "text/plain": [
       "LinearRegression()"
      ]
     },
     "execution_count": 42,
     "metadata": {},
     "output_type": "execute_result"
    }
   ],
   "source": [
    "from sklearn.linear_model import LinearRegression\n",
    "\n",
    "# Creating an object of Linear Regression\n",
    "lm = LinearRegression()\n",
    "\n",
    "# Fit the model using .fit() method\n",
    "lm.fit(X_train_lm, y_train_lm)"
   ]
  },
  {
   "cell_type": "code",
   "execution_count": 43,
   "id": "seeing-timing",
   "metadata": {},
   "outputs": [
    {
     "name": "stdout",
     "output_type": "stream",
     "text": [
      "Intercept : 0.316014724679995\n",
      "Slope : [1.94989874]\n"
     ]
    }
   ],
   "source": [
    "# Intercept value\n",
    "print(\"Intercept :\",lm.intercept_)\n",
    "\n",
    "# Slope value\n",
    "print('Slope :',lm.coef_)"
   ]
  },
  {
   "cell_type": "code",
   "execution_count": 44,
   "id": "patent-occasion",
   "metadata": {},
   "outputs": [
    {
     "name": "stdout",
     "output_type": "stream",
     "text": [
      "0.71411349767598\n",
      "0.721650177124302\n"
     ]
    }
   ],
   "source": [
    "# Making Predictions of y_value\n",
    "y_train_pred = lm.predict(X_train_lm)\n",
    "y_test_pred = lm.predict(X_test_lm)\n",
    "\n",
    "# Comparing the r2 value of both train and test data\n",
    "print(r2_score(y_train,y_train_pred))\n",
    "print(r2_score(y_test,y_test_pred))"
   ]
  }
 ],
 "metadata": {
  "kernelspec": {
   "display_name": "Python 3",
   "language": "python",
   "name": "python3"
  },
  "language_info": {
   "codemirror_mode": {
    "name": "ipython",
    "version": 3
   },
   "file_extension": ".py",
   "mimetype": "text/x-python",
   "name": "python",
   "nbconvert_exporter": "python",
   "pygments_lexer": "ipython3",
   "version": "3.8.5"
  }
 },
 "nbformat": 4,
 "nbformat_minor": 5
}
